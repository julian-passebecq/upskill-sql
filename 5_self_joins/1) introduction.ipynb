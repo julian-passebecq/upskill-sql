{
 "cells": [
  {
   "cell_type": "markdown",
   "id": "5671116d",
   "metadata": {},
   "source": [
    "# Self join: intuition"
   ]
  },
  {
   "cell_type": "markdown",
   "id": "34f57511",
   "metadata": {},
   "source": [
    "Comme son nom l'indique, un self join revient à joindre une table avec elle même !"
   ]
  },
  {
   "cell_type": "markdown",
   "id": "b0fa34d2",
   "metadata": {},
   "source": [
    "Ce n'est donc pas vraiment un type de join comme les cross, inner, left ou full outer."
   ]
  },
  {
   "cell_type": "markdown",
   "id": "a57e2fa7",
   "metadata": {},
   "source": [
    "En effet, vous pouvez tout à fait utiliser n'importe lequel de ces types de joins pour faire votre self-join."
   ]
  },
  {
   "cell_type": "markdown",
   "id": "bbab29f2",
   "metadata": {},
   "source": [
    "<blockquote> Mais pourquoi voudrait-on joindre une table avec elle-même ?! </blockquote>"
   ]
  },
  {
   "cell_type": "markdown",
   "id": "8e58a946",
   "metadata": {},
   "source": [
    "Il y a plusieurs cas de figure, mais le plus répandu est celui des structures hiérarchiques. Imaginez une table qui contient l'id de vos employés (oui, dans quelques années vous en aurez :p), et l'id de leurs managers:"
   ]
  },
  {
   "cell_type": "markdown",
   "id": "428cdef3",
   "metadata": {},
   "source": [
    "<img src=\"images/0intuition_self_join.png\" />"
   ]
  },
  {
   "cell_type": "markdown",
   "id": "33cd1a3f",
   "metadata": {},
   "source": [
    "<i>(Oui, je sais, un id c'est sensé être une clé unique mais on commence simple ;) )</i>"
   ]
  },
  {
   "cell_type": "markdown",
   "id": "a3b30dbb",
   "metadata": {},
   "source": [
    "Vous aimeriez avoir le n+2 de chaque employé en face de celui-ci.\n",
    "\n",
    "Comment faire... ?\n",
    "\n",
    "\n",
    "Il \"suffit\" de lister toutes les combinaisons possibles:"
   ]
  },
  {
   "cell_type": "markdown",
   "id": "ad02496c",
   "metadata": {},
   "source": [
    "<img src=\"images/self_join_intuition1.png\" />"
   ]
  },
  {
   "cell_type": "markdown",
   "id": "1409e569",
   "metadata": {},
   "source": [
    "---\n",
    "\n",
    "Puis de regarder dans quel cas il y a un match entre l'id du superviseur et l'employee_id:"
   ]
  },
  {
   "cell_type": "markdown",
   "id": "0a1d2011",
   "metadata": {},
   "source": [
    "<img src=\"images/self_join_intuition2.png\" />"
   ]
  },
  {
   "cell_type": "markdown",
   "id": "0ee0bc19",
   "metadata": {},
   "source": [
    "Ainsi, on peut voir que le n+2 de Toufik c'est Jean-Nicolas ;) "
   ]
  },
  {
   "cell_type": "markdown",
   "id": "8c4f9180",
   "metadata": {},
   "source": [
    "Sylvie, qui a pour manager Jean-Nicolas, n'a pas de N+2. En effet Jean-Nicolas n'a pas de manager, c'est le CEO de la boîte !"
   ]
  },
  {
   "cell_type": "markdown",
   "id": "0a8c5ebc",
   "metadata": {},
   "source": [
    "# Self join: exemple introductif en code"
   ]
  },
  {
   "cell_type": "code",
   "execution_count": 5,
   "id": "3edbfa5f",
   "metadata": {},
   "outputs": [],
   "source": [
    "import pandas as pd"
   ]
  },
  {
   "cell_type": "code",
   "execution_count": 6,
   "id": "49d482af",
   "metadata": {},
   "outputs": [
    {
     "data": {
      "text/html": [
       "<div>\n",
       "<style scoped>\n",
       "    .dataframe tbody tr th:only-of-type {\n",
       "        vertical-align: middle;\n",
       "    }\n",
       "\n",
       "    .dataframe tbody tr th {\n",
       "        vertical-align: top;\n",
       "    }\n",
       "\n",
       "    .dataframe thead th {\n",
       "        text-align: right;\n",
       "    }\n",
       "</style>\n",
       "<table border=\"1\" class=\"dataframe\">\n",
       "  <thead>\n",
       "    <tr style=\"text-align: right;\">\n",
       "      <th></th>\n",
       "      <th>employee_id</th>\n",
       "      <th>employee_name</th>\n",
       "      <th>manager_id</th>\n",
       "    </tr>\n",
       "  </thead>\n",
       "  <tbody>\n",
       "    <tr>\n",
       "      <th>0</th>\n",
       "      <td>11</td>\n",
       "      <td>Sophie</td>\n",
       "      <td>13.0</td>\n",
       "    </tr>\n",
       "    <tr>\n",
       "      <th>1</th>\n",
       "      <td>12</td>\n",
       "      <td>Sylvie</td>\n",
       "      <td>NaN</td>\n",
       "    </tr>\n",
       "    <tr>\n",
       "      <th>2</th>\n",
       "      <td>13</td>\n",
       "      <td>Daniel</td>\n",
       "      <td>12.0</td>\n",
       "    </tr>\n",
       "    <tr>\n",
       "      <th>3</th>\n",
       "      <td>14</td>\n",
       "      <td>Kaouter</td>\n",
       "      <td>13.0</td>\n",
       "    </tr>\n",
       "    <tr>\n",
       "      <th>4</th>\n",
       "      <td>15</td>\n",
       "      <td>David</td>\n",
       "      <td>11.0</td>\n",
       "    </tr>\n",
       "  </tbody>\n",
       "</table>\n",
       "</div>"
      ],
      "text/plain": [
       "   employee_id employee_name  manager_id\n",
       "0           11        Sophie        13.0\n",
       "1           12        Sylvie         NaN\n",
       "2           13        Daniel        12.0\n",
       "3           14       Kaouter        13.0\n",
       "4           15         David        11.0"
      ]
     },
     "execution_count": 6,
     "metadata": {},
     "output_type": "execute_result"
    }
   ],
   "source": [
    "# Table des employés\n",
    "employees = {\n",
    "    'employee_id': [11, 12, 13, 14, 15],\n",
    "    'employee_name': [\"Sophie\", \"Sylvie\", \"Daniel\", \"Kaouter\", \"David\"],\n",
    "    'manager_id': [13, None, 12, 13, 11],\n",
    "}\n",
    "\n",
    "df_employees = pd.DataFrame(employees)\n",
    "df_employees"
   ]
  },
  {
   "cell_type": "code",
   "execution_count": 7,
   "id": "e7e5b797",
   "metadata": {},
   "outputs": [
    {
     "data": {
      "text/html": [
       "<div>\n",
       "<style scoped>\n",
       "    .dataframe tbody tr th:only-of-type {\n",
       "        vertical-align: middle;\n",
       "    }\n",
       "\n",
       "    .dataframe tbody tr th {\n",
       "        vertical-align: top;\n",
       "    }\n",
       "\n",
       "    .dataframe thead th {\n",
       "        text-align: right;\n",
       "    }\n",
       "</style>\n",
       "<table border=\"1\" class=\"dataframe\">\n",
       "  <thead>\n",
       "    <tr style=\"text-align: right;\">\n",
       "      <th></th>\n",
       "      <th>employee_id_emp</th>\n",
       "      <th>employee_name_emp</th>\n",
       "      <th>manager_id_emp</th>\n",
       "      <th>employee_id_man</th>\n",
       "      <th>employee_name_man</th>\n",
       "      <th>manager_id_man</th>\n",
       "    </tr>\n",
       "  </thead>\n",
       "  <tbody>\n",
       "    <tr>\n",
       "      <th>0</th>\n",
       "      <td>11</td>\n",
       "      <td>Sophie</td>\n",
       "      <td>13.0</td>\n",
       "      <td>13.0</td>\n",
       "      <td>Daniel</td>\n",
       "      <td>12.0</td>\n",
       "    </tr>\n",
       "    <tr>\n",
       "      <th>1</th>\n",
       "      <td>12</td>\n",
       "      <td>Sylvie</td>\n",
       "      <td>NaN</td>\n",
       "      <td>NaN</td>\n",
       "      <td>NaN</td>\n",
       "      <td>NaN</td>\n",
       "    </tr>\n",
       "    <tr>\n",
       "      <th>2</th>\n",
       "      <td>13</td>\n",
       "      <td>Daniel</td>\n",
       "      <td>12.0</td>\n",
       "      <td>12.0</td>\n",
       "      <td>Sylvie</td>\n",
       "      <td>NaN</td>\n",
       "    </tr>\n",
       "    <tr>\n",
       "      <th>3</th>\n",
       "      <td>14</td>\n",
       "      <td>Kaouter</td>\n",
       "      <td>13.0</td>\n",
       "      <td>13.0</td>\n",
       "      <td>Daniel</td>\n",
       "      <td>12.0</td>\n",
       "    </tr>\n",
       "    <tr>\n",
       "      <th>4</th>\n",
       "      <td>15</td>\n",
       "      <td>David</td>\n",
       "      <td>11.0</td>\n",
       "      <td>11.0</td>\n",
       "      <td>Sophie</td>\n",
       "      <td>13.0</td>\n",
       "    </tr>\n",
       "  </tbody>\n",
       "</table>\n",
       "</div>"
      ],
      "text/plain": [
       "   employee_id_emp employee_name_emp  manager_id_emp  employee_id_man  \\\n",
       "0               11            Sophie            13.0             13.0   \n",
       "1               12            Sylvie             NaN              NaN   \n",
       "2               13            Daniel            12.0             12.0   \n",
       "3               14           Kaouter            13.0             13.0   \n",
       "4               15             David            11.0             11.0   \n",
       "\n",
       "  employee_name_man  manager_id_man  \n",
       "0            Daniel            12.0  \n",
       "1               NaN             NaN  \n",
       "2            Sylvie             NaN  \n",
       "3            Daniel            12.0  \n",
       "4            Sophie            13.0  "
      ]
     },
     "execution_count": 7,
     "metadata": {},
     "output_type": "execute_result"
    }
   ],
   "source": [
    "employee_with_manager = (\n",
    "    df_employees\n",
    "    .merge(df_employees,\n",
    "           left_on=\"manager_id\",\n",
    "           right_on=\"employee_id\",\n",
    "           suffixes=[\"_emp\", \"_man\"],\n",
    "           how=\"left\"\n",
    "          )\n",
    "    # .drop(\"employee_id_man\", axis=1)\n",
    ")\n",
    "\n",
    "employee_with_manager"
   ]
  },
  {
   "cell_type": "code",
   "execution_count": 8,
   "id": "099275be",
   "metadata": {},
   "outputs": [
    {
     "data": {
      "text/html": [
       "<div>\n",
       "<style scoped>\n",
       "    .dataframe tbody tr th:only-of-type {\n",
       "        vertical-align: middle;\n",
       "    }\n",
       "\n",
       "    .dataframe tbody tr th {\n",
       "        vertical-align: top;\n",
       "    }\n",
       "\n",
       "    .dataframe thead th {\n",
       "        text-align: right;\n",
       "    }\n",
       "</style>\n",
       "<table border=\"1\" class=\"dataframe\">\n",
       "  <thead>\n",
       "    <tr style=\"text-align: right;\">\n",
       "      <th></th>\n",
       "      <th>employee_id_emp</th>\n",
       "      <th>employee_name_emp</th>\n",
       "      <th>manager_id_emp</th>\n",
       "      <th>employee_id_man</th>\n",
       "      <th>employee_name_man</th>\n",
       "      <th>manager_id_man</th>\n",
       "      <th>employee_id</th>\n",
       "      <th>employee_name</th>\n",
       "      <th>manager_id</th>\n",
       "    </tr>\n",
       "  </thead>\n",
       "  <tbody>\n",
       "    <tr>\n",
       "      <th>0</th>\n",
       "      <td>11</td>\n",
       "      <td>Sophie</td>\n",
       "      <td>13.0</td>\n",
       "      <td>13.0</td>\n",
       "      <td>Daniel</td>\n",
       "      <td>12.0</td>\n",
       "      <td>12.0</td>\n",
       "      <td>Sylvie</td>\n",
       "      <td>NaN</td>\n",
       "    </tr>\n",
       "    <tr>\n",
       "      <th>1</th>\n",
       "      <td>12</td>\n",
       "      <td>Sylvie</td>\n",
       "      <td>NaN</td>\n",
       "      <td>NaN</td>\n",
       "      <td>NaN</td>\n",
       "      <td>NaN</td>\n",
       "      <td>NaN</td>\n",
       "      <td>NaN</td>\n",
       "      <td>NaN</td>\n",
       "    </tr>\n",
       "    <tr>\n",
       "      <th>2</th>\n",
       "      <td>13</td>\n",
       "      <td>Daniel</td>\n",
       "      <td>12.0</td>\n",
       "      <td>12.0</td>\n",
       "      <td>Sylvie</td>\n",
       "      <td>NaN</td>\n",
       "      <td>NaN</td>\n",
       "      <td>NaN</td>\n",
       "      <td>NaN</td>\n",
       "    </tr>\n",
       "    <tr>\n",
       "      <th>3</th>\n",
       "      <td>14</td>\n",
       "      <td>Kaouter</td>\n",
       "      <td>13.0</td>\n",
       "      <td>13.0</td>\n",
       "      <td>Daniel</td>\n",
       "      <td>12.0</td>\n",
       "      <td>12.0</td>\n",
       "      <td>Sylvie</td>\n",
       "      <td>NaN</td>\n",
       "    </tr>\n",
       "    <tr>\n",
       "      <th>4</th>\n",
       "      <td>15</td>\n",
       "      <td>David</td>\n",
       "      <td>11.0</td>\n",
       "      <td>11.0</td>\n",
       "      <td>Sophie</td>\n",
       "      <td>13.0</td>\n",
       "      <td>13.0</td>\n",
       "      <td>Daniel</td>\n",
       "      <td>12.0</td>\n",
       "    </tr>\n",
       "  </tbody>\n",
       "</table>\n",
       "</div>"
      ],
      "text/plain": [
       "   employee_id_emp employee_name_emp  manager_id_emp  employee_id_man  \\\n",
       "0               11            Sophie            13.0             13.0   \n",
       "1               12            Sylvie             NaN              NaN   \n",
       "2               13            Daniel            12.0             12.0   \n",
       "3               14           Kaouter            13.0             13.0   \n",
       "4               15             David            11.0             11.0   \n",
       "\n",
       "  employee_name_man  manager_id_man  employee_id employee_name  manager_id  \n",
       "0            Daniel            12.0         12.0        Sylvie         NaN  \n",
       "1               NaN             NaN          NaN           NaN         NaN  \n",
       "2            Sylvie             NaN          NaN           NaN         NaN  \n",
       "3            Daniel            12.0         12.0        Sylvie         NaN  \n",
       "4            Sophie            13.0         13.0        Daniel        12.0  "
      ]
     },
     "execution_count": 8,
     "metadata": {},
     "output_type": "execute_result"
    }
   ],
   "source": [
    "# Autant de fois qu'on veut ;)\n",
    "\n",
    "(\n",
    "    employee_with_manager\n",
    "    .merge(df_employees,\n",
    "           left_on=\"manager_id_man\",\n",
    "           right_on=\"employee_id\",\n",
    "           suffixes=[\"_n+1\", \"_n+2\"],\n",
    "           how=\"left\"\n",
    "          )\n",
    "    # .drop(\"employee_id_man\", axis=1)\n",
    ")"
   ]
  },
  {
   "cell_type": "markdown",
   "id": "09ae0002",
   "metadata": {},
   "source": [
    "<img src=\"images/employee_superviseurs.png\" />"
   ]
  },
  {
   "cell_type": "markdown",
   "id": "96fcd63b",
   "metadata": {},
   "source": [
    "# Exercice: faire la même chose en SQL"
   ]
  },
  {
   "cell_type": "code",
   "execution_count": 9,
   "id": "163627f5",
   "metadata": {},
   "outputs": [],
   "source": [
    "import duckdb"
   ]
  },
  {
   "cell_type": "code",
   "execution_count": null,
   "id": "b63c08a8",
   "metadata": {},
   "outputs": [],
   "source": []
  },
  {
   "cell_type": "code",
   "execution_count": 12,
   "id": "9bf6c8c5",
   "metadata": {},
   "outputs": [
    {
     "data": {
      "text/plain": [
       "┌─────────────┬───────────────┬────────────┬─────────────┬───────────────┬────────────┐\n",
       "│ employee_id │ employee_name │ manager_id │ employee_id │ employee_name │ manager_id │\n",
       "│    int64    │    varchar    │   double   │    int64    │    varchar    │   double   │\n",
       "├─────────────┼───────────────┼────────────┼─────────────┼───────────────┼────────────┤\n",
       "│          11 │ Sophie        │       13.0 │          13 │ Daniel        │       12.0 │\n",
       "│          13 │ Daniel        │       12.0 │          12 │ Sylvie        │       NULL │\n",
       "│          14 │ Kaouter       │       13.0 │          13 │ Daniel        │       12.0 │\n",
       "│          15 │ David         │       11.0 │          11 │ Sophie        │       13.0 │\n",
       "│          12 │ Sylvie        │       NULL │        NULL │ NULL          │       NULL │\n",
       "└─────────────┴───────────────┴────────────┴─────────────┴───────────────┴────────────┘"
      ]
     },
     "execution_count": 12,
     "metadata": {},
     "output_type": "execute_result"
    }
   ],
   "source": [
    "%load solutions/1self_join_employees.py"
   ]
  },
  {
   "cell_type": "code",
   "execution_count": null,
   "id": "6cbd7cd6",
   "metadata": {},
   "outputs": [],
   "source": []
  }
 ],
 "metadata": {
  "kernelspec": {
   "display_name": "Python 3 (ipykernel)",
   "language": "python",
   "name": "python3"
  },
  "language_info": {
   "codemirror_mode": {
    "name": "ipython",
    "version": 3
   },
   "file_extension": ".py",
   "mimetype": "text/x-python",
   "name": "python",
   "nbconvert_exporter": "python",
   "pygments_lexer": "ipython3",
   "version": "3.11.4"
  }
 },
 "nbformat": 4,
 "nbformat_minor": 5
}
