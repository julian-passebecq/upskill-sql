{
 "cells": [
  {
   "cell_type": "code",
   "execution_count": 1,
   "id": "da91b73c",
   "metadata": {},
   "outputs": [],
   "source": [
    "import random\n",
    "import duckdb\n",
    "import pandas as pd\n",
    "random.seed(42)"
   ]
  },
  {
   "cell_type": "markdown",
   "id": "57ff9cf4",
   "metadata": {},
   "source": [
    "Participants aux réunions:"
   ]
  },
  {
   "cell_type": "code",
   "execution_count": 3,
   "id": "d0b64bd5",
   "metadata": {},
   "outputs": [],
   "source": [
    "person_names = [\"Benjamin\", \"Florian\", \"Tarik\", \"Bob\", \"Sirine\", \"Alice\"]"
   ]
  },
  {
   "cell_type": "markdown",
   "id": "3f7266ed",
   "metadata": {},
   "source": [
    "Création de la donnée sur les meetings:"
   ]
  },
  {
   "cell_type": "code",
   "execution_count": 4,
   "id": "9f3c0ad7",
   "metadata": {},
   "outputs": [],
   "source": [
    "meetings_data = []\n",
    "for meeting_id in range(150):\n",
    "    persons_in_meet = random.sample(person_names, random.randint(1,5))\n",
    "    for person_name in persons_in_meet:\n",
    "        meetings_data.append((meeting_id, person_name))\n",
    "\n",
    "\n",
    "meetings_df = pd.DataFrame(meetings_data, columns=[\"meeting_id\", \"person_name\"])"
   ]
  },
  {
   "cell_type": "markdown",
   "id": "7aafa0ca",
   "metadata": {},
   "source": [
    "Durées des meetings:"
   ]
  },
  {
   "cell_type": "code",
   "execution_count": 5,
   "id": "4dbc0a7f",
   "metadata": {},
   "outputs": [],
   "source": [
    "meeting_durations = []\n",
    "for meeting_id in meetings_df[\"meeting_id\"].unique():\n",
    "    duration = random.randint(10, 60)  # You can adjust the range as needed\n",
    "    meeting_durations.append((meeting_id, duration))\n",
    "\n",
    "durations_df = pd.DataFrame(meeting_durations, columns=[\"meeting_id\", \"duration_minutes\"])"
   ]
  },
  {
   "cell_type": "markdown",
   "id": "17e88b5a",
   "metadata": {},
   "source": [
    "Tweak de la donnée pour rendre l'exercice plus fun ;)"
   ]
  },
  {
   "cell_type": "code",
   "execution_count": 6,
   "id": "7cbd5c05",
   "metadata": {},
   "outputs": [],
   "source": [
    "average_duration = durations_df[\"duration_minutes\"].mean()\n",
    "meetings_with_flo = meetings_df[meetings_df[\"person_name\"] == \"Florian\"][\"meeting_id\"].unique()\n",
    "# meetings_with_ben = meetings_df[meetings_df[\"person_name\"] == \"Benjamin\"][\"meeting_id\"].unique()\n",
    "# s=set(meetings_with_ben) & set(meetings_with_flo)\n",
    "for _, row in durations_df.iterrows():\n",
    "    if row[\"meeting_id\"] in meetings_with_flo:\n",
    "        row[\"duration_minutes\"] += random.randint(50, 55)  # Add extra minutes to meet the condition"
   ]
  },
  {
   "cell_type": "markdown",
   "id": "f4f6f701",
   "metadata": {},
   "source": [
    "Total:"
   ]
  },
  {
   "cell_type": "code",
   "execution_count": 7,
   "id": "6071869d",
   "metadata": {},
   "outputs": [
    {
     "data": {
      "text/html": [
       "<div>\n",
       "<style scoped>\n",
       "    .dataframe tbody tr th:only-of-type {\n",
       "        vertical-align: middle;\n",
       "    }\n",
       "\n",
       "    .dataframe tbody tr th {\n",
       "        vertical-align: top;\n",
       "    }\n",
       "\n",
       "    .dataframe thead th {\n",
       "        text-align: right;\n",
       "    }\n",
       "</style>\n",
       "<table border=\"1\" class=\"dataframe\">\n",
       "  <thead>\n",
       "    <tr style=\"text-align: right;\">\n",
       "      <th></th>\n",
       "      <th>meeting_id</th>\n",
       "      <th>person_name</th>\n",
       "      <th>duration_minutes</th>\n",
       "    </tr>\n",
       "  </thead>\n",
       "  <tbody>\n",
       "    <tr>\n",
       "      <th>0</th>\n",
       "      <td>0</td>\n",
       "      <td>Benjamin</td>\n",
       "      <td>36</td>\n",
       "    </tr>\n",
       "    <tr>\n",
       "      <th>1</th>\n",
       "      <td>1</td>\n",
       "      <td>Florian</td>\n",
       "      <td>84</td>\n",
       "    </tr>\n",
       "    <tr>\n",
       "      <th>2</th>\n",
       "      <td>1</td>\n",
       "      <td>Alice</td>\n",
       "      <td>84</td>\n",
       "    </tr>\n",
       "    <tr>\n",
       "      <th>3</th>\n",
       "      <td>1</td>\n",
       "      <td>Sirine</td>\n",
       "      <td>84</td>\n",
       "    </tr>\n",
       "    <tr>\n",
       "      <th>4</th>\n",
       "      <td>2</td>\n",
       "      <td>Alice</td>\n",
       "      <td>44</td>\n",
       "    </tr>\n",
       "    <tr>\n",
       "      <th>...</th>\n",
       "      <td>...</td>\n",
       "      <td>...</td>\n",
       "      <td>...</td>\n",
       "    </tr>\n",
       "    <tr>\n",
       "      <th>430</th>\n",
       "      <td>147</td>\n",
       "      <td>Florian</td>\n",
       "      <td>83</td>\n",
       "    </tr>\n",
       "    <tr>\n",
       "      <th>431</th>\n",
       "      <td>147</td>\n",
       "      <td>Bob</td>\n",
       "      <td>83</td>\n",
       "    </tr>\n",
       "    <tr>\n",
       "      <th>432</th>\n",
       "      <td>148</td>\n",
       "      <td>Alice</td>\n",
       "      <td>63</td>\n",
       "    </tr>\n",
       "    <tr>\n",
       "      <th>433</th>\n",
       "      <td>148</td>\n",
       "      <td>Florian</td>\n",
       "      <td>63</td>\n",
       "    </tr>\n",
       "    <tr>\n",
       "      <th>434</th>\n",
       "      <td>149</td>\n",
       "      <td>Bob</td>\n",
       "      <td>36</td>\n",
       "    </tr>\n",
       "  </tbody>\n",
       "</table>\n",
       "<p>435 rows × 3 columns</p>\n",
       "</div>"
      ],
      "text/plain": [
       "     meeting_id person_name  duration_minutes\n",
       "0             0    Benjamin                36\n",
       "1             1     Florian                84\n",
       "2             1       Alice                84\n",
       "3             1      Sirine                84\n",
       "4             2       Alice                44\n",
       "..          ...         ...               ...\n",
       "430         147     Florian                83\n",
       "431         147         Bob                83\n",
       "432         148       Alice                63\n",
       "433         148     Florian                63\n",
       "434         149         Bob                36\n",
       "\n",
       "[435 rows x 3 columns]"
      ]
     },
     "execution_count": 7,
     "metadata": {},
     "output_type": "execute_result"
    }
   ],
   "source": [
    "merged_df = meetings_df.merge(durations_df, on=\"meeting_id\")\n",
    "merged_df"
   ]
  },
  {
   "cell_type": "markdown",
   "id": "a60ab7f8",
   "metadata": {},
   "source": [
    "<blockquote> Mais pourquoi on n'a pas mis tous les participants dans des colonnes différentes pour avoir une seule ligne par meeting ?!</blockquote> "
   ]
  },
  {
   "cell_type": "markdown",
   "id": "600e9185",
   "metadata": {},
   "source": [
    "# Exercice: self join"
   ]
  },
  {
   "cell_type": "markdown",
   "id": "e99b343a",
   "metadata": {},
   "source": [
    "Pour calculer le temps que je passe en réunion en fonction de qui d'autre est présent, il faut:\n",
    "- créer une table avec toutes les combinaisons de personnes ayant assisté au même meeting\n",
    "- ne garder que les records qui me concernent (Benjamin)\n",
    "- enlever les records où je suis en réunion \"avec moi-même\""
   ]
  },
  {
   "cell_type": "code",
   "execution_count": null,
   "id": "395ad931",
   "metadata": {},
   "outputs": [],
   "source": []
  },
  {
   "cell_type": "code",
   "execution_count": 22,
   "id": "9921287b",
   "metadata": {
    "cell_style": "center"
   },
   "outputs": [
    {
     "data": {
      "text/html": [
       "<div>\n",
       "<style scoped>\n",
       "    .dataframe tbody tr th:only-of-type {\n",
       "        vertical-align: middle;\n",
       "    }\n",
       "\n",
       "    .dataframe tbody tr th {\n",
       "        vertical-align: top;\n",
       "    }\n",
       "\n",
       "    .dataframe thead th {\n",
       "        text-align: right;\n",
       "    }\n",
       "</style>\n",
       "<table border=\"1\" class=\"dataframe\">\n",
       "  <thead>\n",
       "    <tr style=\"text-align: right;\">\n",
       "      <th></th>\n",
       "      <th>meeting_id</th>\n",
       "      <th>person_name_L</th>\n",
       "      <th>person_name_R</th>\n",
       "      <th>duration_minutes</th>\n",
       "    </tr>\n",
       "  </thead>\n",
       "  <tbody>\n",
       "    <tr>\n",
       "      <th>12</th>\n",
       "      <td>3</td>\n",
       "      <td>Benjamin</td>\n",
       "      <td>Sirine</td>\n",
       "      <td>39</td>\n",
       "    </tr>\n",
       "    <tr>\n",
       "      <th>13</th>\n",
       "      <td>3</td>\n",
       "      <td>Benjamin</td>\n",
       "      <td>Bob</td>\n",
       "      <td>39</td>\n",
       "    </tr>\n",
       "    <tr>\n",
       "      <th>14</th>\n",
       "      <td>3</td>\n",
       "      <td>Benjamin</td>\n",
       "      <td>Alice</td>\n",
       "      <td>39</td>\n",
       "    </tr>\n",
       "    <tr>\n",
       "      <th>15</th>\n",
       "      <td>3</td>\n",
       "      <td>Benjamin</td>\n",
       "      <td>Tarik</td>\n",
       "      <td>39</td>\n",
       "    </tr>\n",
       "    <tr>\n",
       "      <th>58</th>\n",
       "      <td>8</td>\n",
       "      <td>Benjamin</td>\n",
       "      <td>Florian</td>\n",
       "      <td>87</td>\n",
       "    </tr>\n",
       "    <tr>\n",
       "      <th>...</th>\n",
       "      <td>...</td>\n",
       "      <td>...</td>\n",
       "      <td>...</td>\n",
       "      <td>...</td>\n",
       "    </tr>\n",
       "    <tr>\n",
       "      <th>1512</th>\n",
       "      <td>144</td>\n",
       "      <td>Benjamin</td>\n",
       "      <td>Florian</td>\n",
       "      <td>66</td>\n",
       "    </tr>\n",
       "    <tr>\n",
       "      <th>1513</th>\n",
       "      <td>144</td>\n",
       "      <td>Benjamin</td>\n",
       "      <td>Tarik</td>\n",
       "      <td>66</td>\n",
       "    </tr>\n",
       "    <tr>\n",
       "      <th>1514</th>\n",
       "      <td>144</td>\n",
       "      <td>Benjamin</td>\n",
       "      <td>Sirine</td>\n",
       "      <td>66</td>\n",
       "    </tr>\n",
       "    <tr>\n",
       "      <th>1528</th>\n",
       "      <td>146</td>\n",
       "      <td>Benjamin</td>\n",
       "      <td>Sirine</td>\n",
       "      <td>105</td>\n",
       "    </tr>\n",
       "    <tr>\n",
       "      <th>1530</th>\n",
       "      <td>146</td>\n",
       "      <td>Benjamin</td>\n",
       "      <td>Florian</td>\n",
       "      <td>105</td>\n",
       "    </tr>\n",
       "  </tbody>\n",
       "</table>\n",
       "<p>181 rows × 4 columns</p>\n",
       "</div>"
      ],
      "text/plain": [
       "      meeting_id person_name_L person_name_R  duration_minutes\n",
       "12             3      Benjamin        Sirine                39\n",
       "13             3      Benjamin           Bob                39\n",
       "14             3      Benjamin         Alice                39\n",
       "15             3      Benjamin         Tarik                39\n",
       "58             8      Benjamin       Florian                87\n",
       "...          ...           ...           ...               ...\n",
       "1512         144      Benjamin       Florian                66\n",
       "1513         144      Benjamin         Tarik                66\n",
       "1514         144      Benjamin        Sirine                66\n",
       "1528         146      Benjamin        Sirine               105\n",
       "1530         146      Benjamin       Florian               105\n",
       "\n",
       "[181 rows x 4 columns]"
      ]
     },
     "execution_count": 22,
     "metadata": {},
     "output_type": "execute_result"
    }
   ],
   "source": [
    "%load solutions/3self_join_meetings_python.py"
   ]
  },
  {
   "cell_type": "code",
   "execution_count": null,
   "id": "7ff2ad09",
   "metadata": {},
   "outputs": [],
   "source": []
  },
  {
   "cell_type": "code",
   "execution_count": 24,
   "id": "4057ce6f",
   "metadata": {},
   "outputs": [
    {
     "data": {
      "text/plain": [
       "┌────────────┬─────────────┬──────────────────┬─────────────┬──────────────────┐\n",
       "│ meeting_id │ person_name │ duration_minutes │ person_name │ duration_minutes │\n",
       "│   int64    │   varchar   │      int64       │   varchar   │      int64       │\n",
       "├────────────┼─────────────┼──────────────────┼─────────────┼──────────────────┤\n",
       "│          3 │ Benjamin    │               39 │ Tarik       │               39 │\n",
       "│          8 │ Benjamin    │               87 │ Tarik       │               87 │\n",
       "│         11 │ Benjamin    │               54 │ Bob         │               54 │\n",
       "│         13 │ Benjamin    │               58 │ Tarik       │               58 │\n",
       "│         15 │ Benjamin    │               34 │ Bob         │               34 │\n",
       "│         17 │ Benjamin    │               10 │ Tarik       │               10 │\n",
       "│         18 │ Benjamin    │               32 │ Bob         │               32 │\n",
       "│         25 │ Benjamin    │              110 │ Alice       │              110 │\n",
       "│         26 │ Benjamin    │               44 │ Tarik       │               44 │\n",
       "│         36 │ Benjamin    │               85 │ Florian     │               85 │\n",
       "│          · │    ·        │                · │  ·          │                · │\n",
       "│          · │    ·        │                · │  ·          │                · │\n",
       "│          · │    ·        │                · │  ·          │                · │\n",
       "│        116 │ Benjamin    │               80 │ Bob         │               80 │\n",
       "│        140 │ Benjamin    │               97 │ Florian     │               97 │\n",
       "│        144 │ Benjamin    │               66 │ Bob         │               66 │\n",
       "│         50 │ Benjamin    │              104 │ Bob         │              104 │\n",
       "│         61 │ Benjamin    │               30 │ Tarik       │               30 │\n",
       "│         14 │ Benjamin    │               46 │ Alice       │               46 │\n",
       "│         61 │ Benjamin    │               30 │ Alice       │               30 │\n",
       "│         14 │ Benjamin    │               46 │ Bob         │               46 │\n",
       "│         14 │ Benjamin    │               46 │ Sirine      │               46 │\n",
       "│         74 │ Benjamin    │               11 │ Sirine      │               11 │\n",
       "├────────────┴─────────────┴──────────────────┴─────────────┴──────────────────┤\n",
       "│ 181 rows (20 shown)                                                5 columns │\n",
       "└──────────────────────────────────────────────────────────────────────────────┘"
      ]
     },
     "execution_count": 24,
     "metadata": {},
     "output_type": "execute_result"
    }
   ],
   "source": [
    "%load solutions/4self_join_meetings_sql.py"
   ]
  },
  {
   "cell_type": "markdown",
   "id": "9b8616b5",
   "metadata": {},
   "source": [
    "<blockquote> Super ton exercice, mais ça nous aide pas à répondre à la question. Comment on fait avec cette table pour savoir avec qui on passe le plus de temps ?! </blockquote>"
   ]
  },
  {
   "cell_type": "markdown",
   "id": "6a1225d9",
   "metadata": {},
   "source": [
    "Pour répondre à cette question, il va falloir faire la moyenne de durée de réunion _par_ collègue.\n",
    "\n",
    "C'est une agrégation, et maintenant qu'on a fait le tour des joins, on va pouvoir attaquer cette partie :) "
   ]
  }
 ],
 "metadata": {
  "kernelspec": {
   "display_name": "Python 3 (ipykernel)",
   "language": "python",
   "name": "python3"
  },
  "language_info": {
   "codemirror_mode": {
    "name": "ipython",
    "version": 3
   },
   "file_extension": ".py",
   "mimetype": "text/x-python",
   "name": "python",
   "nbconvert_exporter": "python",
   "pygments_lexer": "ipython3",
   "version": "3.11.4"
  }
 },
 "nbformat": 4,
 "nbformat_minor": 5
}
