{
 "cells": [
  {
   "cell_type": "markdown",
   "id": "af439a8e",
   "metadata": {
    "heading_collapsed": true
   },
   "source": [
    "# Trouver les meilleurs clients"
   ]
  },
  {
   "cell_type": "code",
   "execution_count": 10,
   "id": "84262221",
   "metadata": {
    "hidden": true
   },
   "outputs": [],
   "source": [
    "import pandas as pd\n",
    "import duckdb"
   ]
  },
  {
   "cell_type": "code",
   "execution_count": 11,
   "id": "0a41d93a",
   "metadata": {
    "hidden": true
   },
   "outputs": [
    {
     "data": {
      "text/html": [
       "<div>\n",
       "<style scoped>\n",
       "    .dataframe tbody tr th:only-of-type {\n",
       "        vertical-align: middle;\n",
       "    }\n",
       "\n",
       "    .dataframe tbody tr th {\n",
       "        vertical-align: top;\n",
       "    }\n",
       "\n",
       "    .dataframe thead th {\n",
       "        text-align: right;\n",
       "    }\n",
       "</style>\n",
       "<table border=\"1\" class=\"dataframe\">\n",
       "  <thead>\n",
       "    <tr style=\"text-align: right;\">\n",
       "      <th></th>\n",
       "      <th>montant</th>\n",
       "      <th>client</th>\n",
       "    </tr>\n",
       "  </thead>\n",
       "  <tbody>\n",
       "    <tr>\n",
       "      <th>0</th>\n",
       "      <td>110.00</td>\n",
       "      <td>Oussama</td>\n",
       "    </tr>\n",
       "    <tr>\n",
       "      <th>1</th>\n",
       "      <td>49.00</td>\n",
       "      <td>Julie</td>\n",
       "    </tr>\n",
       "    <tr>\n",
       "      <th>2</th>\n",
       "      <td>65.00</td>\n",
       "      <td>Chris</td>\n",
       "    </tr>\n",
       "    <tr>\n",
       "      <th>3</th>\n",
       "      <td>23.00</td>\n",
       "      <td>Tom</td>\n",
       "    </tr>\n",
       "    <tr>\n",
       "      <th>4</th>\n",
       "      <td>24.00</td>\n",
       "      <td>Jean-Nicolas</td>\n",
       "    </tr>\n",
       "    <tr>\n",
       "      <th>5</th>\n",
       "      <td>3.99</td>\n",
       "      <td>Aline</td>\n",
       "    </tr>\n",
       "  </tbody>\n",
       "</table>\n",
       "</div>"
      ],
      "text/plain": [
       "   montant        client\n",
       "0   110.00       Oussama\n",
       "1    49.00         Julie\n",
       "2    65.00         Chris\n",
       "3    23.00           Tom\n",
       "4    24.00  Jean-Nicolas\n",
       "5     3.99         Aline"
      ]
     },
     "execution_count": 11,
     "metadata": {},
     "output_type": "execute_result"
    }
   ],
   "source": [
    "clients = [\"Oussama\", \"Julie\", \"Chris\", \"Tom\", \"Jean-Nicolas\", \"Aline\", \"Ben\", \"Toufik\", \"Sylvie\", \"David\"]\n",
    "ventes = [110, 49, 65, 23, 24, 3.99, 29, 48.77, 44, 10, 60, 12, 62, 19, 75] * 2 \n",
    "\n",
    "ventes = pd.DataFrame(ventes)\n",
    "ventes.columns = [\"montant\"]\n",
    "ventes[\"client\"] = clients * 3\n",
    "ventes.head(6)"
   ]
  },
  {
   "cell_type": "markdown",
   "id": "da51379c",
   "metadata": {
    "hidden": true
   },
   "source": [
    "## Exercice, calculer le panier moyen pour chaque client"
   ]
  },
  {
   "cell_type": "markdown",
   "id": "e86aa542",
   "metadata": {
    "hidden": true
   },
   "source": [
    "C'est à dire, faire simplement la moyenne des achats"
   ]
  },
  {
   "cell_type": "code",
   "execution_count": 7,
   "id": "edf48e61",
   "metadata": {
    "cell_style": "split",
    "hidden": true
   },
   "outputs": [
    {
     "data": {
      "text/plain": [
       "client\n",
       "Aline           57.996667\n",
       "Ben             30.000000\n",
       "Chris           58.590000\n",
       "David           36.333333\n",
       "Jean-Nicolas    36.333333\n",
       "Julie           30.000000\n",
       "Oussama         57.996667\n",
       "Sylvie          28.666667\n",
       "Tom             28.666667\n",
       "Toufik          58.590000\n",
       "Name: montant, dtype: float64"
      ]
     },
     "execution_count": 7,
     "metadata": {},
     "output_type": "execute_result"
    }
   ],
   "source": [
    "%load solutions/5panier_moyen_client_python.py"
   ]
  },
  {
   "cell_type": "code",
   "execution_count": 4,
   "id": "0b167101",
   "metadata": {
    "cell_style": "split",
    "hidden": true
   },
   "outputs": [
    {
     "data": {
      "text/plain": [
       "┌──────────────┬────────────────────┐\n",
       "│    client    │    total_ventes    │\n",
       "│   varchar    │       double       │\n",
       "├──────────────┼────────────────────┤\n",
       "│ Oussama      │  57.99666666666667 │\n",
       "│ Julie        │               30.0 │\n",
       "│ Chris        │              58.59 │\n",
       "│ Tom          │ 28.666666666666668 │\n",
       "│ Jean-Nicolas │ 36.333333333333336 │\n",
       "│ Aline        │  57.99666666666667 │\n",
       "│ Ben          │               30.0 │\n",
       "│ Toufik       │              58.59 │\n",
       "│ Sylvie       │ 28.666666666666668 │\n",
       "│ David        │ 36.333333333333336 │\n",
       "├──────────────┴────────────────────┤\n",
       "│ 10 rows                 2 columns │\n",
       "└───────────────────────────────────┘"
      ]
     },
     "execution_count": 4,
     "metadata": {},
     "output_type": "execute_result"
    }
   ],
   "source": [
    "%load solutions/6panier_moyen_client_sql.py"
   ]
  },
  {
   "cell_type": "markdown",
   "id": "eea6f0b9",
   "metadata": {
    "hidden": true
   },
   "source": [
    "--- "
   ]
  },
  {
   "cell_type": "markdown",
   "id": "11772b08",
   "metadata": {
    "hidden": true
   },
   "source": [
    "Ensuite, votre PO vous demande de sortir la liste des clients qui ont des achats supérieurs à la moyenne "
   ]
  },
  {
   "cell_type": "markdown",
   "id": "ce1e679c",
   "metadata": {
    "hidden": true
   },
   "source": [
    "## Exercice: je triche avec Python, mais si vous étiez en interview SQL ?!"
   ]
  },
  {
   "cell_type": "markdown",
   "id": "fcac1125",
   "metadata": {
    "hidden": true
   },
   "source": []
  },
  {
   "cell_type": "code",
   "execution_count": 12,
   "id": "1f70fdb6",
   "metadata": {
    "hidden": true,
    "scrolled": true
   },
   "outputs": [
    {
     "data": {
      "text/plain": [
       "42.31733333333333"
      ]
     },
     "execution_count": 12,
     "metadata": {},
     "output_type": "execute_result"
    }
   ],
   "source": [
    "mean = (\n",
    "    ventes[\"montant\"].mean()\n",
    ")\n",
    "mean"
   ]
  },
  {
   "cell_type": "code",
   "execution_count": 113,
   "id": "5d67223b",
   "metadata": {
    "cell_style": "split",
    "hidden": true
   },
   "outputs": [
    {
     "data": {
      "text/plain": [
       "┌─────────┬───────────────────┐\n",
       "│ client  │    total_sales    │\n",
       "│ varchar │      double       │\n",
       "├─────────┼───────────────────┤\n",
       "│ Oussama │ 57.99666666666667 │\n",
       "│ Chris   │             58.59 │\n",
       "│ Aline   │ 57.99666666666667 │\n",
       "│ Toufik  │             58.59 │\n",
       "└─────────┴───────────────────┘"
      ]
     },
     "execution_count": 113,
     "metadata": {},
     "output_type": "execute_result"
    }
   ],
   "source": [
    "query = f\"\"\"\n",
    "SELECT client, \n",
    "MEAN(montant) as mean_sales\n",
    "FROM ventes\n",
    "GROUP BY CLIENT\n",
    "HAVING mean_sales > {mean}\n",
    "\"\"\"\n",
    "\n",
    "duckdb.sql(query)"
   ]
  },
  {
   "cell_type": "code",
   "execution_count": 114,
   "id": "6ab2ed90",
   "metadata": {
    "cell_style": "split",
    "hidden": true
   },
   "outputs": [
    {
     "data": {
      "text/html": [
       "<div>\n",
       "<style scoped>\n",
       "    .dataframe tbody tr th:only-of-type {\n",
       "        vertical-align: middle;\n",
       "    }\n",
       "\n",
       "    .dataframe tbody tr th {\n",
       "        vertical-align: top;\n",
       "    }\n",
       "\n",
       "    .dataframe thead th {\n",
       "        text-align: right;\n",
       "    }\n",
       "</style>\n",
       "<table border=\"1\" class=\"dataframe\">\n",
       "  <thead>\n",
       "    <tr style=\"text-align: right;\">\n",
       "      <th></th>\n",
       "      <th>client</th>\n",
       "      <th>montant</th>\n",
       "    </tr>\n",
       "  </thead>\n",
       "  <tbody>\n",
       "    <tr>\n",
       "      <th>0</th>\n",
       "      <td>Aline</td>\n",
       "      <td>57.996667</td>\n",
       "    </tr>\n",
       "    <tr>\n",
       "      <th>2</th>\n",
       "      <td>Chris</td>\n",
       "      <td>58.590000</td>\n",
       "    </tr>\n",
       "    <tr>\n",
       "      <th>6</th>\n",
       "      <td>Oussama</td>\n",
       "      <td>57.996667</td>\n",
       "    </tr>\n",
       "    <tr>\n",
       "      <th>9</th>\n",
       "      <td>Toufik</td>\n",
       "      <td>58.590000</td>\n",
       "    </tr>\n",
       "  </tbody>\n",
       "</table>\n",
       "</div>"
      ],
      "text/plain": [
       "    client    montant\n",
       "0    Aline  57.996667\n",
       "2    Chris  58.590000\n",
       "6  Oussama  57.996667\n",
       "9   Toufik  58.590000"
      ]
     },
     "execution_count": 114,
     "metadata": {},
     "output_type": "execute_result"
    }
   ],
   "source": [
    "(\n",
    "    ventes\n",
    "    .groupby(\"client\")\n",
    "    [\"montant\"].mean()\n",
    "    .reset_index()\n",
    "    .query(f\"montant > {mean}\")\n",
    ")"
   ]
  },
  {
   "cell_type": "markdown",
   "id": "3616def8",
   "metadata": {
    "hidden": true
   },
   "source": [
    "Faites la même chose en SQL sans utiliser une F-string Python:"
   ]
  },
  {
   "cell_type": "code",
   "execution_count": 17,
   "id": "c751115a",
   "metadata": {
    "cell_style": "split",
    "hidden": true
   },
   "outputs": [
    {
     "data": {
      "text/plain": [
       "┌─────────┬───────────────────┐\n",
       "│ client  │    mean_sales     │\n",
       "│ varchar │      double       │\n",
       "├─────────┼───────────────────┤\n",
       "│ Oussama │ 57.99666666666667 │\n",
       "│ Chris   │             58.59 │\n",
       "│ Aline   │ 57.99666666666667 │\n",
       "│ Toufik  │             58.59 │\n",
       "└─────────┴───────────────────┘"
      ]
     },
     "execution_count": 17,
     "metadata": {},
     "output_type": "execute_result"
    }
   ],
   "source": [
    "# Avec une subquery\n",
    "%load solutions/7mean_sales_python.py"
   ]
  },
  {
   "cell_type": "code",
   "execution_count": 19,
   "id": "77f13f62",
   "metadata": {
    "cell_style": "split",
    "hidden": true
   },
   "outputs": [
    {
     "data": {
      "text/plain": [
       "┌─────────┬───────────────────┐\n",
       "│ client  │    total_sales    │\n",
       "│ varchar │      double       │\n",
       "├─────────┼───────────────────┤\n",
       "│ Oussama │ 57.99666666666667 │\n",
       "│ Chris   │             58.59 │\n",
       "│ Aline   │ 57.99666666666667 │\n",
       "│ Toufik  │             58.59 │\n",
       "└─────────┴───────────────────┘"
      ]
     },
     "execution_count": 19,
     "metadata": {},
     "output_type": "execute_result"
    }
   ],
   "source": [
    "# Avec une CTE\n",
    "%load solutions/8mean_sales_sql.py\n"
   ]
  },
  {
   "cell_type": "markdown",
   "id": "9b2acac2",
   "metadata": {
    "hidden": true
   },
   "source": [
    "## Exercice: la moyenne de la somme des ventes"
   ]
  },
  {
   "cell_type": "markdown",
   "id": "c377d780",
   "metadata": {
    "hidden": true
   },
   "source": [
    "Voici les ventes totales pour chaque client:"
   ]
  },
  {
   "cell_type": "code",
   "execution_count": 125,
   "id": "60073cbc",
   "metadata": {
    "hidden": true
   },
   "outputs": [
    {
     "data": {
      "text/plain": [
       "client\n",
       "Aline           173.99\n",
       "Ben              90.00\n",
       "Chris           175.77\n",
       "David           109.00\n",
       "Jean-Nicolas    109.00\n",
       "Julie            90.00\n",
       "Oussama         173.99\n",
       "Sylvie           86.00\n",
       "Tom              86.00\n",
       "Toufik          175.77\n",
       "Name: montant, dtype: float64"
      ]
     },
     "execution_count": 125,
     "metadata": {},
     "output_type": "execute_result"
    }
   ],
   "source": [
    "ventes.groupby(\"client\")[\"montant\"].sum()"
   ]
  },
  {
   "cell_type": "markdown",
   "id": "fc470b0d",
   "metadata": {
    "hidden": true
   },
   "source": [
    "La moyenne de ces ventes totales est différente de celle de tout à l'heure:"
   ]
  },
  {
   "cell_type": "code",
   "execution_count": 126,
   "id": "307af46b",
   "metadata": {
    "hidden": true
   },
   "outputs": [
    {
     "data": {
      "text/plain": [
       "126.952"
      ]
     },
     "execution_count": 126,
     "metadata": {},
     "output_type": "execute_result"
    }
   ],
   "source": [
    "ventes.groupby(\"client\")[\"montant\"].sum().mean()"
   ]
  },
  {
   "cell_type": "markdown",
   "id": "dc13c675",
   "metadata": {
    "hidden": true
   },
   "source": [
    "Utilisez une CTE pour obtenir les clients qui ont un total d'achat supérieur à la moyenne des totaux d'achats des autres clients:"
   ]
  },
  {
   "cell_type": "markdown",
   "id": "a12c1cd7",
   "metadata": {
    "hidden": true
   },
   "source": [
    "<img src=\"images/pirates-of-the-caribbean-captain-jack-sparrow.gif\" />"
   ]
  },
  {
   "cell_type": "markdown",
   "id": "ff15f8ba",
   "metadata": {
    "hidden": true
   },
   "source": [
    "(On veut les clients qui ont dépensé plus que 126.95€ :p)"
   ]
  },
  {
   "cell_type": "markdown",
   "id": "bacccdf8",
   "metadata": {
    "hidden": true
   },
   "source": [
    "Etapes:\n",
    "- Faire une query pour obtenir les ventes totales par client\n",
    "- La stocker dans une subquery\n",
    "- A partir de cette subquery, faire un query pour obtenir la moyenne de ces ventes totales\n",
    "- La stocker dans une 2nde subquery\n",
    "- A partir de cette deuxième subquery, récupérer les clients et leur somme totales dépensées, et filtrer sur les clients dont la moyenne est supérieure à celle calculée dans la 2e subquery"
   ]
  },
  {
   "cell_type": "code",
   "execution_count": 26,
   "id": "c0995b7e",
   "metadata": {
    "hidden": true,
    "scrolled": true
   },
   "outputs": [
    {
     "data": {
      "text/plain": [
       "┌─────────┬─────────────┐\n",
       "│ client  │ total_sales │\n",
       "│ varchar │   double    │\n",
       "├─────────┼─────────────┤\n",
       "│ Oussama │      173.99 │\n",
       "│ Chris   │      175.77 │\n",
       "│ Aline   │      173.99 │\n",
       "│ Toufik  │      175.77 │\n",
       "└─────────┴─────────────┘"
      ]
     },
     "execution_count": 26,
     "metadata": {},
     "output_type": "execute_result"
    }
   ],
   "source": [
    "query = \"\"\"\n",
    "WITH TOTAL_SALES_PER_CLIENT AS (\n",
    "    SELECT SUM(montant) AS total_sales\n",
    "    FROM ventes\n",
    "    GROUP BY client\n",
    "),\n",
    "\n",
    "MEAN_TOTAL_SALES AS (\n",
    "    SELECT MEAN(total_sales)\n",
    "    FROM TOTAL_SALES_PER_CLIENT\n",
    ")\n",
    "\n",
    "SELECT client, \n",
    "SUM(montant) as total_sales\n",
    "FROM ventes\n",
    "GROUP BY CLIENT\n",
    "HAVING total_sales > \n",
    "(SELECT * FROM MEAN_TOTAL_SALES)\n",
    "\"\"\"\n",
    "\n",
    "duckdb.sql(query)"
   ]
  },
  {
   "cell_type": "markdown",
   "id": "ce9dd5f5",
   "metadata": {},
   "source": [
    "# Les réunions, 2"
   ]
  },
  {
   "cell_type": "markdown",
   "id": "57ff9cf4",
   "metadata": {},
   "source": [
    "Participants aux réunions:"
   ]
  },
  {
   "cell_type": "code",
   "execution_count": 32,
   "id": "d0b64bd5",
   "metadata": {},
   "outputs": [],
   "source": [
    "person_names = [\"Benjamin\", \"Florian\", \"Tarik\", \"Bob\", \"Sirine\", \"Alice\"]"
   ]
  },
  {
   "cell_type": "markdown",
   "id": "3f7266ed",
   "metadata": {},
   "source": [
    "Création de la donnée sur les meetings:"
   ]
  },
  {
   "cell_type": "code",
   "execution_count": 33,
   "id": "9f3c0ad7",
   "metadata": {},
   "outputs": [],
   "source": [
    "import random\n",
    "\n",
    "meetings_data = []\n",
    "for meeting_id in range(150):\n",
    "    persons_in_meet = random.sample(person_names, random.randint(1,5))\n",
    "    for person_name in persons_in_meet:\n",
    "        meetings_data.append((meeting_id, person_name))\n",
    "\n",
    "\n",
    "meetings_df = pd.DataFrame(meetings_data, columns=[\"meeting_id\", \"person_name\"])"
   ]
  },
  {
   "cell_type": "markdown",
   "id": "7aafa0ca",
   "metadata": {},
   "source": [
    "Durées des meetings:"
   ]
  },
  {
   "cell_type": "code",
   "execution_count": 34,
   "id": "4dbc0a7f",
   "metadata": {},
   "outputs": [],
   "source": [
    "meeting_durations = []\n",
    "for meeting_id in meetings_df[\"meeting_id\"].unique():\n",
    "    duration = random.randint(10, 45)  # You can adjust the range as needed\n",
    "    meeting_durations.append((meeting_id, duration))\n",
    "\n",
    "durations_df = pd.DataFrame(meeting_durations, columns=[\"meeting_id\", \"duration_minutes\"])"
   ]
  },
  {
   "cell_type": "markdown",
   "id": "17e88b5a",
   "metadata": {},
   "source": [
    "Tweak de la donnée pour rendre l'exercice plus fun ;)"
   ]
  },
  {
   "cell_type": "code",
   "execution_count": 35,
   "id": "7cbd5c05",
   "metadata": {},
   "outputs": [],
   "source": [
    "average_duration = durations_df[\"duration_minutes\"].mean()\n",
    "meetings_with_flo = meetings_df[meetings_df[\"person_name\"] == \"Florian\"][\"meeting_id\"].unique()\n",
    "# meetings_with_ben = meetings_df[meetings_df[\"person_name\"] == \"Benjamin\"][\"meeting_id\"].unique()\n",
    "# s=set(meetings_with_ben) & set(meetings_with_flo)\n",
    "for _, row in durations_df.iterrows():\n",
    "    if row[\"meeting_id\"] in meetings_with_flo:\n",
    "        row[\"duration_minutes\"] += random.randint(50, 65)  # Add extra minutes to meet the condition"
   ]
  },
  {
   "cell_type": "markdown",
   "id": "f4f6f701",
   "metadata": {},
   "source": [
    "Total:"
   ]
  },
  {
   "cell_type": "code",
   "execution_count": 36,
   "id": "6071869d",
   "metadata": {},
   "outputs": [
    {
     "data": {
      "text/html": [
       "<div>\n",
       "<style scoped>\n",
       "    .dataframe tbody tr th:only-of-type {\n",
       "        vertical-align: middle;\n",
       "    }\n",
       "\n",
       "    .dataframe tbody tr th {\n",
       "        vertical-align: top;\n",
       "    }\n",
       "\n",
       "    .dataframe thead th {\n",
       "        text-align: right;\n",
       "    }\n",
       "</style>\n",
       "<table border=\"1\" class=\"dataframe\">\n",
       "  <thead>\n",
       "    <tr style=\"text-align: right;\">\n",
       "      <th></th>\n",
       "      <th>meeting_id</th>\n",
       "      <th>person_name</th>\n",
       "      <th>duration_minutes</th>\n",
       "    </tr>\n",
       "  </thead>\n",
       "  <tbody>\n",
       "    <tr>\n",
       "      <th>0</th>\n",
       "      <td>0</td>\n",
       "      <td>Florian</td>\n",
       "      <td>88</td>\n",
       "    </tr>\n",
       "    <tr>\n",
       "      <th>1</th>\n",
       "      <td>0</td>\n",
       "      <td>Alice</td>\n",
       "      <td>88</td>\n",
       "    </tr>\n",
       "    <tr>\n",
       "      <th>2</th>\n",
       "      <td>1</td>\n",
       "      <td>Bob</td>\n",
       "      <td>74</td>\n",
       "    </tr>\n",
       "    <tr>\n",
       "      <th>3</th>\n",
       "      <td>1</td>\n",
       "      <td>Florian</td>\n",
       "      <td>74</td>\n",
       "    </tr>\n",
       "    <tr>\n",
       "      <th>4</th>\n",
       "      <td>1</td>\n",
       "      <td>Benjamin</td>\n",
       "      <td>74</td>\n",
       "    </tr>\n",
       "    <tr>\n",
       "      <th>...</th>\n",
       "      <td>...</td>\n",
       "      <td>...</td>\n",
       "      <td>...</td>\n",
       "    </tr>\n",
       "    <tr>\n",
       "      <th>446</th>\n",
       "      <td>148</td>\n",
       "      <td>Tarik</td>\n",
       "      <td>22</td>\n",
       "    </tr>\n",
       "    <tr>\n",
       "      <th>447</th>\n",
       "      <td>149</td>\n",
       "      <td>Florian</td>\n",
       "      <td>74</td>\n",
       "    </tr>\n",
       "    <tr>\n",
       "      <th>448</th>\n",
       "      <td>149</td>\n",
       "      <td>Alice</td>\n",
       "      <td>74</td>\n",
       "    </tr>\n",
       "    <tr>\n",
       "      <th>449</th>\n",
       "      <td>149</td>\n",
       "      <td>Bob</td>\n",
       "      <td>74</td>\n",
       "    </tr>\n",
       "    <tr>\n",
       "      <th>450</th>\n",
       "      <td>149</td>\n",
       "      <td>Benjamin</td>\n",
       "      <td>74</td>\n",
       "    </tr>\n",
       "  </tbody>\n",
       "</table>\n",
       "<p>451 rows × 3 columns</p>\n",
       "</div>"
      ],
      "text/plain": [
       "     meeting_id person_name  duration_minutes\n",
       "0             0     Florian                88\n",
       "1             0       Alice                88\n",
       "2             1         Bob                74\n",
       "3             1     Florian                74\n",
       "4             1    Benjamin                74\n",
       "..          ...         ...               ...\n",
       "446         148       Tarik                22\n",
       "447         149     Florian                74\n",
       "448         149       Alice                74\n",
       "449         149         Bob                74\n",
       "450         149    Benjamin                74\n",
       "\n",
       "[451 rows x 3 columns]"
      ]
     },
     "execution_count": 36,
     "metadata": {},
     "output_type": "execute_result"
    }
   ],
   "source": [
    "merged_df = meetings_df.merge(durations_df, on=\"meeting_id\")\n",
    "merged_df"
   ]
  },
  {
   "cell_type": "markdown",
   "id": "63e44770",
   "metadata": {},
   "source": [
    "## Exercice 1: refaites le self join "
   ]
  },
  {
   "cell_type": "markdown",
   "id": "684137f7",
   "metadata": {},
   "source": [
    "- créer une table avec toutes les combinaisons de personnes ayant assisté au même meeting\n",
    "- ne garder que les records qui me concernent (Benjamin)\n",
    "- enlever les records où je suis en réunion \"avec moi-même\""
   ]
  },
  {
   "cell_type": "code",
   "execution_count": 38,
   "id": "50ec49cc",
   "metadata": {},
   "outputs": [
    {
     "data": {
      "text/plain": [
       "┌────────────┬───────────┬──────────────────┐\n",
       "│ meeting_id │ colleague │ duration_minutes │\n",
       "│   int64    │  varchar  │      int64       │\n",
       "├────────────┼───────────┼──────────────────┤\n",
       "│          1 │ Alice     │               74 │\n",
       "│          4 │ Sirine    │               37 │\n",
       "│          6 │ Alice     │               94 │\n",
       "│          7 │ Bob       │               85 │\n",
       "│          8 │ Florian   │               69 │\n",
       "│         12 │ Florian   │               88 │\n",
       "│         13 │ Sirine    │               86 │\n",
       "│         15 │ Florian   │              100 │\n",
       "│         16 │ Tarik     │               24 │\n",
       "│         17 │ Florian   │               77 │\n",
       "│          · │   ·       │                · │\n",
       "│          · │   ·       │                · │\n",
       "│          · │   ·       │                · │\n",
       "│        142 │ Tarik     │              110 │\n",
       "│        146 │ Bob       │               35 │\n",
       "│        148 │ Alice     │               22 │\n",
       "│         44 │ Sirine    │               93 │\n",
       "│         50 │ Florian   │               81 │\n",
       "│        115 │ Sirine    │               45 │\n",
       "│         50 │ Tarik     │               81 │\n",
       "│        115 │ Bob       │               45 │\n",
       "│         50 │ Sirine    │               81 │\n",
       "│         50 │ Bob       │               81 │\n",
       "├────────────┴───────────┴──────────────────┤\n",
       "│ 199 rows (20 shown)             3 columns │\n",
       "└───────────────────────────────────────────┘"
      ]
     },
     "execution_count": 38,
     "metadata": {},
     "output_type": "execute_result"
    }
   ],
   "source": [
    "# %load solutions/9self_join_review.py\n",
    "query = \"\"\"\n",
    "SELECT meeting_id, \n",
    "rdf.person_name as colleague,\n",
    "ldf.duration_minutes\n",
    "FROM merged_df ldf\n",
    "INNER JOIN merged_df rdf\n",
    "USING (meeting_id)\n",
    "WHERE ldf.person_name == 'Benjamin'\n",
    "AND rdf.person_name != 'Benjamin'\n",
    "\"\"\"\n",
    "\n",
    "duckdb.sql(query)\n"
   ]
  },
  {
   "cell_type": "markdown",
   "id": "d647d8fe",
   "metadata": {},
   "source": [
    "## Exercice 2: calculez la durée moyenne des meetings avec chaque collegue "
   ]
  },
  {
   "cell_type": "markdown",
   "id": "b2c76e1e",
   "metadata": {},
   "source": [
    "Ensuite, faire un group by pour savoir la durée moyenne de mes meetings avec chaque personne\n",
    "- [optionnel]: ne garder que les résultats pour lesquels la moyenne est > à 1h"
   ]
  },
  {
   "cell_type": "code",
   "execution_count": 40,
   "id": "70518914",
   "metadata": {},
   "outputs": [
    {
     "data": {
      "text/plain": [
       "┌───────────┬──────────────────────┐\n",
       "│ colleague │ avg_meeting_duration │\n",
       "│  varchar  │        double        │\n",
       "├───────────┼──────────────────────┤\n",
       "│ Alice     │   61.609756097560975 │\n",
       "│ Sirine    │   60.470588235294116 │\n",
       "│ Bob       │    66.23255813953489 │\n",
       "│ Florian   │    85.69047619047619 │\n",
       "│ Tarik     │                 69.0 │\n",
       "└───────────┴──────────────────────┘"
      ]
     },
     "execution_count": 40,
     "metadata": {},
     "output_type": "execute_result"
    }
   ],
   "source": [
    "# %load solutions/10reunions_solution.py\n",
    "query = \"\"\" \n",
    "WITH meetings_benjamin AS (\n",
    "    SELECT meeting_id, \n",
    "    rdf.person_name as colleague,\n",
    "    ldf.duration_minutes\n",
    "    FROM merged_df ldf\n",
    "    INNER JOIN merged_df rdf\n",
    "    USING (meeting_id)\n",
    "    WHERE ldf.person_name == 'Benjamin'\n",
    "    AND rdf.person_name != 'Benjamin'\n",
    ")\n",
    "\n",
    "SELECT colleague,\n",
    "MEAN(duration_minutes) as avg_meeting_duration\n",
    "FROM meetings_benjamin\n",
    "GROUP BY colleague\n",
    "\"\"\"\n",
    "\n",
    "duckdb.sql(query)\n"
   ]
  },
  {
   "cell_type": "code",
   "execution_count": null,
   "id": "9b407d8e",
   "metadata": {},
   "outputs": [],
   "source": []
  }
 ],
 "metadata": {
  "kernelspec": {
   "display_name": "Python 3 (ipykernel)",
   "language": "python",
   "name": "python3"
  },
  "language_info": {
   "codemirror_mode": {
    "name": "ipython",
    "version": 3
   },
   "file_extension": ".py",
   "mimetype": "text/x-python",
   "name": "python",
   "nbconvert_exporter": "python",
   "pygments_lexer": "ipython3",
   "version": "3.11.4"
  }
 },
 "nbformat": 4,
 "nbformat_minor": 5
}
