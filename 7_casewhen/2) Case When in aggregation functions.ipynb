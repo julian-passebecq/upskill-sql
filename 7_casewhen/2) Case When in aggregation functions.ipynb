{
 "cells": [
  {
   "cell_type": "markdown",
   "id": "9589cff8",
   "metadata": {},
   "source": [
    "# Case When à l'intérieur des fonctions d'agrégation"
   ]
  },
  {
   "cell_type": "code",
   "execution_count": 2,
   "id": "5caf7c3d",
   "metadata": {},
   "outputs": [],
   "source": [
    "import pandas as pd\n",
    "import duckdb"
   ]
  },
  {
   "cell_type": "markdown",
   "id": "50828d42",
   "metadata": {},
   "source": [
    "# Calculer la somme des ventes après réduction"
   ]
  },
  {
   "cell_type": "code",
   "execution_count": 3,
   "id": "e8339e60",
   "metadata": {},
   "outputs": [
    {
     "data": {
      "text/html": [
       "<div>\n",
       "<style scoped>\n",
       "    .dataframe tbody tr th:only-of-type {\n",
       "        vertical-align: middle;\n",
       "    }\n",
       "\n",
       "    .dataframe tbody tr th {\n",
       "        vertical-align: top;\n",
       "    }\n",
       "\n",
       "    .dataframe thead th {\n",
       "        text-align: right;\n",
       "    }\n",
       "</style>\n",
       "<table border=\"1\" class=\"dataframe\">\n",
       "  <thead>\n",
       "    <tr style=\"text-align: right;\">\n",
       "      <th></th>\n",
       "      <th>order_id</th>\n",
       "      <th>product_id</th>\n",
       "      <th>quantity</th>\n",
       "      <th>price_per_unit</th>\n",
       "      <th>discount_code</th>\n",
       "    </tr>\n",
       "  </thead>\n",
       "  <tbody>\n",
       "    <tr>\n",
       "      <th>0</th>\n",
       "      <td>1</td>\n",
       "      <td>101</td>\n",
       "      <td>5</td>\n",
       "      <td>10.0</td>\n",
       "      <td>None</td>\n",
       "    </tr>\n",
       "    <tr>\n",
       "      <th>1</th>\n",
       "      <td>2</td>\n",
       "      <td>102</td>\n",
       "      <td>3</td>\n",
       "      <td>25.0</td>\n",
       "      <td>DISCOUNT10</td>\n",
       "    </tr>\n",
       "    <tr>\n",
       "      <th>2</th>\n",
       "      <td>3</td>\n",
       "      <td>101</td>\n",
       "      <td>2</td>\n",
       "      <td>10.0</td>\n",
       "      <td>DISCOUNT20</td>\n",
       "    </tr>\n",
       "    <tr>\n",
       "      <th>3</th>\n",
       "      <td>4</td>\n",
       "      <td>103</td>\n",
       "      <td>4</td>\n",
       "      <td>8.0</td>\n",
       "      <td>None</td>\n",
       "    </tr>\n",
       "    <tr>\n",
       "      <th>4</th>\n",
       "      <td>5</td>\n",
       "      <td>102</td>\n",
       "      <td>6</td>\n",
       "      <td>25.0</td>\n",
       "      <td>None</td>\n",
       "    </tr>\n",
       "    <tr>\n",
       "      <th>5</th>\n",
       "      <td>6</td>\n",
       "      <td>103</td>\n",
       "      <td>2</td>\n",
       "      <td>8.0</td>\n",
       "      <td>UNKNOWN</td>\n",
       "    </tr>\n",
       "  </tbody>\n",
       "</table>\n",
       "</div>"
      ],
      "text/plain": [
       "   order_id  product_id  quantity  price_per_unit discount_code\n",
       "0         1         101         5            10.0          None\n",
       "1         2         102         3            25.0    DISCOUNT10\n",
       "2         3         101         2            10.0    DISCOUNT20\n",
       "3         4         103         4             8.0          None\n",
       "4         5         102         6            25.0          None\n",
       "5         6         103         2             8.0       UNKNOWN"
      ]
     },
     "execution_count": 3,
     "metadata": {},
     "output_type": "execute_result"
    }
   ],
   "source": [
    "data = {\n",
    "    'order_id': [1, 2, 3, 4, 5, 6],\n",
    "    'product_id': [101, 102, 101, 103, 102, 103],\n",
    "    'quantity': [5, 3, 2, 4, 6, 2],\n",
    "    'price_per_unit': [10.0, 25.0, 10.0, 8.0, 25.0, 8.0],\n",
    "    'discount_code': [None, 'DISCOUNT10', 'DISCOUNT20', None, None, 'UNKNOWN']\n",
    "}\n",
    "\n",
    "df = pd.DataFrame(data)\n",
    "df"
   ]
  },
  {
   "cell_type": "markdown",
   "id": "947115b0",
   "metadata": {},
   "source": [
    "On aimerait savoir combien on a vendu au total. \n",
    "Pour ça, il faut créer la colonne "
   ]
  },
  {
   "cell_type": "code",
   "execution_count": 4,
   "id": "350ecb31",
   "metadata": {},
   "outputs": [],
   "source": [
    "def set_discount(discount_code):\n",
    "    if discount_code == \"DISCOUNT10\":\n",
    "        return 0.9\n",
    "    elif discount_code == \"DISCOUNT20\":\n",
    "        return 0.8\n",
    "    else:\n",
    "        return 1"
   ]
  },
  {
   "cell_type": "code",
   "execution_count": 5,
   "id": "1f5bd9a8",
   "metadata": {},
   "outputs": [
    {
     "data": {
      "text/html": [
       "<div>\n",
       "<style scoped>\n",
       "    .dataframe tbody tr th:only-of-type {\n",
       "        vertical-align: middle;\n",
       "    }\n",
       "\n",
       "    .dataframe tbody tr th {\n",
       "        vertical-align: top;\n",
       "    }\n",
       "\n",
       "    .dataframe thead th {\n",
       "        text-align: right;\n",
       "    }\n",
       "</style>\n",
       "<table border=\"1\" class=\"dataframe\">\n",
       "  <thead>\n",
       "    <tr style=\"text-align: right;\">\n",
       "      <th></th>\n",
       "      <th>order_id</th>\n",
       "      <th>product_id</th>\n",
       "      <th>quantity</th>\n",
       "      <th>price_per_unit</th>\n",
       "      <th>discount_code</th>\n",
       "      <th>discount</th>\n",
       "      <th>revenue_after_discount</th>\n",
       "    </tr>\n",
       "  </thead>\n",
       "  <tbody>\n",
       "    <tr>\n",
       "      <th>0</th>\n",
       "      <td>1</td>\n",
       "      <td>101</td>\n",
       "      <td>5</td>\n",
       "      <td>10.0</td>\n",
       "      <td>None</td>\n",
       "      <td>1.0</td>\n",
       "      <td>50.0</td>\n",
       "    </tr>\n",
       "    <tr>\n",
       "      <th>1</th>\n",
       "      <td>2</td>\n",
       "      <td>102</td>\n",
       "      <td>3</td>\n",
       "      <td>25.0</td>\n",
       "      <td>DISCOUNT10</td>\n",
       "      <td>0.9</td>\n",
       "      <td>67.5</td>\n",
       "    </tr>\n",
       "    <tr>\n",
       "      <th>2</th>\n",
       "      <td>3</td>\n",
       "      <td>101</td>\n",
       "      <td>2</td>\n",
       "      <td>10.0</td>\n",
       "      <td>DISCOUNT20</td>\n",
       "      <td>0.8</td>\n",
       "      <td>16.0</td>\n",
       "    </tr>\n",
       "    <tr>\n",
       "      <th>3</th>\n",
       "      <td>4</td>\n",
       "      <td>103</td>\n",
       "      <td>4</td>\n",
       "      <td>8.0</td>\n",
       "      <td>None</td>\n",
       "      <td>1.0</td>\n",
       "      <td>32.0</td>\n",
       "    </tr>\n",
       "    <tr>\n",
       "      <th>4</th>\n",
       "      <td>5</td>\n",
       "      <td>102</td>\n",
       "      <td>6</td>\n",
       "      <td>25.0</td>\n",
       "      <td>None</td>\n",
       "      <td>1.0</td>\n",
       "      <td>150.0</td>\n",
       "    </tr>\n",
       "    <tr>\n",
       "      <th>5</th>\n",
       "      <td>6</td>\n",
       "      <td>103</td>\n",
       "      <td>2</td>\n",
       "      <td>8.0</td>\n",
       "      <td>UNKNOWN</td>\n",
       "      <td>1.0</td>\n",
       "      <td>16.0</td>\n",
       "    </tr>\n",
       "  </tbody>\n",
       "</table>\n",
       "</div>"
      ],
      "text/plain": [
       "   order_id  product_id  quantity  price_per_unit discount_code  discount  \\\n",
       "0         1         101         5            10.0          None       1.0   \n",
       "1         2         102         3            25.0    DISCOUNT10       0.9   \n",
       "2         3         101         2            10.0    DISCOUNT20       0.8   \n",
       "3         4         103         4             8.0          None       1.0   \n",
       "4         5         102         6            25.0          None       1.0   \n",
       "5         6         103         2             8.0       UNKNOWN       1.0   \n",
       "\n",
       "   revenue_after_discount  \n",
       "0                    50.0  \n",
       "1                    67.5  \n",
       "2                    16.0  \n",
       "3                    32.0  \n",
       "4                   150.0  \n",
       "5                    16.0  "
      ]
     },
     "execution_count": 5,
     "metadata": {},
     "output_type": "execute_result"
    }
   ],
   "source": [
    "# %%timeit plus rapide\n",
    "df['discount'] = df[\"discount_code\"].apply(set_discount)\n",
    "df[\"revenue_after_discount\"] = df[\"quantity\"] * df[\"price_per_unit\"] * df['discount']\n",
    "df"
   ]
  },
  {
   "cell_type": "code",
   "execution_count": 6,
   "id": "3b79d5ab",
   "metadata": {},
   "outputs": [
    {
     "data": {
      "text/html": [
       "<div>\n",
       "<style scoped>\n",
       "    .dataframe tbody tr th:only-of-type {\n",
       "        vertical-align: middle;\n",
       "    }\n",
       "\n",
       "    .dataframe tbody tr th {\n",
       "        vertical-align: top;\n",
       "    }\n",
       "\n",
       "    .dataframe thead th {\n",
       "        text-align: right;\n",
       "    }\n",
       "</style>\n",
       "<table border=\"1\" class=\"dataframe\">\n",
       "  <thead>\n",
       "    <tr style=\"text-align: right;\">\n",
       "      <th></th>\n",
       "      <th>order_id</th>\n",
       "      <th>product_id</th>\n",
       "      <th>quantity</th>\n",
       "      <th>price_per_unit</th>\n",
       "      <th>discount_code</th>\n",
       "      <th>discount</th>\n",
       "      <th>revenue_after_discount</th>\n",
       "    </tr>\n",
       "  </thead>\n",
       "  <tbody>\n",
       "    <tr>\n",
       "      <th>0</th>\n",
       "      <td>1</td>\n",
       "      <td>101</td>\n",
       "      <td>5</td>\n",
       "      <td>10.0</td>\n",
       "      <td>None</td>\n",
       "      <td>1.0</td>\n",
       "      <td>50.0</td>\n",
       "    </tr>\n",
       "    <tr>\n",
       "      <th>1</th>\n",
       "      <td>2</td>\n",
       "      <td>102</td>\n",
       "      <td>3</td>\n",
       "      <td>25.0</td>\n",
       "      <td>DISCOUNT10</td>\n",
       "      <td>0.9</td>\n",
       "      <td>67.5</td>\n",
       "    </tr>\n",
       "    <tr>\n",
       "      <th>2</th>\n",
       "      <td>3</td>\n",
       "      <td>101</td>\n",
       "      <td>2</td>\n",
       "      <td>10.0</td>\n",
       "      <td>DISCOUNT20</td>\n",
       "      <td>0.8</td>\n",
       "      <td>16.0</td>\n",
       "    </tr>\n",
       "    <tr>\n",
       "      <th>3</th>\n",
       "      <td>4</td>\n",
       "      <td>103</td>\n",
       "      <td>4</td>\n",
       "      <td>8.0</td>\n",
       "      <td>None</td>\n",
       "      <td>1.0</td>\n",
       "      <td>32.0</td>\n",
       "    </tr>\n",
       "    <tr>\n",
       "      <th>4</th>\n",
       "      <td>5</td>\n",
       "      <td>102</td>\n",
       "      <td>6</td>\n",
       "      <td>25.0</td>\n",
       "      <td>None</td>\n",
       "      <td>1.0</td>\n",
       "      <td>150.0</td>\n",
       "    </tr>\n",
       "    <tr>\n",
       "      <th>5</th>\n",
       "      <td>6</td>\n",
       "      <td>103</td>\n",
       "      <td>2</td>\n",
       "      <td>8.0</td>\n",
       "      <td>UNKNOWN</td>\n",
       "      <td>1.0</td>\n",
       "      <td>16.0</td>\n",
       "    </tr>\n",
       "  </tbody>\n",
       "</table>\n",
       "</div>"
      ],
      "text/plain": [
       "   order_id  product_id  quantity  price_per_unit discount_code  discount  \\\n",
       "0         1         101         5            10.0          None       1.0   \n",
       "1         2         102         3            25.0    DISCOUNT10       0.9   \n",
       "2         3         101         2            10.0    DISCOUNT20       0.8   \n",
       "3         4         103         4             8.0          None       1.0   \n",
       "4         5         102         6            25.0          None       1.0   \n",
       "5         6         103         2             8.0       UNKNOWN       1.0   \n",
       "\n",
       "   revenue_after_discount  \n",
       "0                    50.0  \n",
       "1                    67.5  \n",
       "2                    16.0  \n",
       "3                    32.0  \n",
       "4                   150.0  \n",
       "5                    16.0  "
      ]
     },
     "execution_count": 6,
     "metadata": {},
     "output_type": "execute_result"
    }
   ],
   "source": [
    "# %%timeit plus long mais plus \"effective pandas\"\n",
    "df.assign(\n",
    "    discount = df[\"discount_code\"].apply(set_discount),\n",
    "    revenue_after_discount = lambda df_: df_[\"quantity\"] * df_[\"price_per_unit\"] * df_['discount']\n",
    ")"
   ]
  },
  {
   "cell_type": "code",
   "execution_count": 7,
   "id": "07bc54ee",
   "metadata": {},
   "outputs": [
    {
     "data": {
      "text/plain": [
       "331.5"
      ]
     },
     "execution_count": 7,
     "metadata": {},
     "output_type": "execute_result"
    }
   ],
   "source": [
    "df.assign(\n",
    "    discount = df[\"discount_code\"].apply(set_discount),\n",
    "    revenue_after_discount = lambda df_: df_[\"quantity\"] * df_[\"price_per_unit\"] * df_['discount']\n",
    ")[\"revenue_after_discount\"].sum()"
   ]
  },
  {
   "cell_type": "markdown",
   "id": "f670c672",
   "metadata": {},
   "source": [
    "# WITH SQL"
   ]
  },
  {
   "cell_type": "code",
   "execution_count": 8,
   "id": "1e06ae88",
   "metadata": {
    "scrolled": true
   },
   "outputs": [
    {
     "data": {
      "text/html": [
       "<div>\n",
       "<style scoped>\n",
       "    .dataframe tbody tr th:only-of-type {\n",
       "        vertical-align: middle;\n",
       "    }\n",
       "\n",
       "    .dataframe tbody tr th {\n",
       "        vertical-align: top;\n",
       "    }\n",
       "\n",
       "    .dataframe thead th {\n",
       "        text-align: right;\n",
       "    }\n",
       "</style>\n",
       "<table border=\"1\" class=\"dataframe\">\n",
       "  <thead>\n",
       "    <tr style=\"text-align: right;\">\n",
       "      <th></th>\n",
       "      <th>order_id</th>\n",
       "      <th>product_id</th>\n",
       "      <th>quantity</th>\n",
       "      <th>price_per_unit</th>\n",
       "      <th>discount_code</th>\n",
       "    </tr>\n",
       "  </thead>\n",
       "  <tbody>\n",
       "    <tr>\n",
       "      <th>0</th>\n",
       "      <td>1</td>\n",
       "      <td>101</td>\n",
       "      <td>5</td>\n",
       "      <td>10.0</td>\n",
       "      <td>None</td>\n",
       "    </tr>\n",
       "    <tr>\n",
       "      <th>1</th>\n",
       "      <td>2</td>\n",
       "      <td>102</td>\n",
       "      <td>3</td>\n",
       "      <td>25.0</td>\n",
       "      <td>DISCOUNT10</td>\n",
       "    </tr>\n",
       "    <tr>\n",
       "      <th>2</th>\n",
       "      <td>3</td>\n",
       "      <td>101</td>\n",
       "      <td>2</td>\n",
       "      <td>10.0</td>\n",
       "      <td>DISCOUNT20</td>\n",
       "    </tr>\n",
       "    <tr>\n",
       "      <th>3</th>\n",
       "      <td>4</td>\n",
       "      <td>103</td>\n",
       "      <td>4</td>\n",
       "      <td>8.0</td>\n",
       "      <td>None</td>\n",
       "    </tr>\n",
       "    <tr>\n",
       "      <th>4</th>\n",
       "      <td>5</td>\n",
       "      <td>102</td>\n",
       "      <td>6</td>\n",
       "      <td>25.0</td>\n",
       "      <td>None</td>\n",
       "    </tr>\n",
       "    <tr>\n",
       "      <th>5</th>\n",
       "      <td>6</td>\n",
       "      <td>103</td>\n",
       "      <td>2</td>\n",
       "      <td>8.0</td>\n",
       "      <td>UNKNOWN</td>\n",
       "    </tr>\n",
       "  </tbody>\n",
       "</table>\n",
       "</div>"
      ],
      "text/plain": [
       "   order_id  product_id  quantity  price_per_unit discount_code\n",
       "0         1         101         5            10.0          None\n",
       "1         2         102         3            25.0    DISCOUNT10\n",
       "2         3         101         2            10.0    DISCOUNT20\n",
       "3         4         103         4             8.0          None\n",
       "4         5         102         6            25.0          None\n",
       "5         6         103         2             8.0       UNKNOWN"
      ]
     },
     "execution_count": 8,
     "metadata": {},
     "output_type": "execute_result"
    }
   ],
   "source": [
    "df = pd.DataFrame(data)\n",
    "df"
   ]
  },
  {
   "cell_type": "markdown",
   "id": "8f86b74d",
   "metadata": {},
   "source": [
    "Exercice:\n",
    "- Faites une CTE avec le CASE WHEN dedans (la colonne crée par le CASE WHEN s'appelle \"total_revenue\"\n",
    "- Utilisez cette table intermédiaire pour calculer le revenu total une fois les réductions déduites"
   ]
  },
  {
   "cell_type": "code",
   "execution_count": 10,
   "id": "72e9971a",
   "metadata": {},
   "outputs": [
    {
     "data": {
      "text/plain": [
       "┌────────────────────┐\n",
       "│ sum(total_revenue) │\n",
       "│       double       │\n",
       "├────────────────────┤\n",
       "│              232.0 │\n",
       "│               67.5 │\n",
       "│               16.0 │\n",
       "│               16.0 │\n",
       "└────────────────────┘"
      ]
     },
     "execution_count": 10,
     "metadata": {},
     "output_type": "execute_result"
    }
   ],
   "source": [
    "%load solutions/2case_when_inside_cte_sql.py"
   ]
  },
  {
   "cell_type": "markdown",
   "id": "6f62784a",
   "metadata": {},
   "source": [
    "Maintenant, essayez de tout faire en une seule requête, en \"englobant\" votre case when par un \"SUM()\""
   ]
  },
  {
   "cell_type": "code",
   "execution_count": 13,
   "id": "94c4d476",
   "metadata": {},
   "outputs": [
    {
     "data": {
      "text/plain": [
       "┌───────────────┐\n",
       "│ total_revenue │\n",
       "│    double     │\n",
       "├───────────────┤\n",
       "│         232.0 │\n",
       "│          67.5 │\n",
       "│          16.0 │\n",
       "│          16.0 │\n",
       "└───────────────┘"
      ]
     },
     "execution_count": 13,
     "metadata": {},
     "output_type": "execute_result"
    }
   ],
   "source": [
    "%load solutions/3case_when_inside_sum.py"
   ]
  },
  {
   "cell_type": "markdown",
   "id": "786fd4e4",
   "metadata": {},
   "source": [
    "## Case when inside group by"
   ]
  },
  {
   "cell_type": "markdown",
   "id": "a34d1855",
   "metadata": {},
   "source": [
    "Il est également possible de faire des CASE WHEN à l'intérieur de la clause GROUP BY:"
   ]
  },
  {
   "cell_type": "code",
   "execution_count": 16,
   "id": "b92583cf",
   "metadata": {},
   "outputs": [
    {
     "data": {
      "text/html": [
       "<div>\n",
       "<style scoped>\n",
       "    .dataframe tbody tr th:only-of-type {\n",
       "        vertical-align: middle;\n",
       "    }\n",
       "\n",
       "    .dataframe tbody tr th {\n",
       "        vertical-align: top;\n",
       "    }\n",
       "\n",
       "    .dataframe thead th {\n",
       "        text-align: right;\n",
       "    }\n",
       "</style>\n",
       "<table border=\"1\" class=\"dataframe\">\n",
       "  <thead>\n",
       "    <tr style=\"text-align: right;\">\n",
       "      <th></th>\n",
       "      <th>name</th>\n",
       "      <th>wage</th>\n",
       "      <th>department</th>\n",
       "    </tr>\n",
       "  </thead>\n",
       "  <tbody>\n",
       "    <tr>\n",
       "      <th>10</th>\n",
       "      <td>Zeinaba</td>\n",
       "      <td>100000</td>\n",
       "      <td>IT</td>\n",
       "    </tr>\n",
       "    <tr>\n",
       "      <th>11</th>\n",
       "      <td>Gregory</td>\n",
       "      <td>120000</td>\n",
       "      <td>IT</td>\n",
       "    </tr>\n",
       "    <tr>\n",
       "      <th>12</th>\n",
       "      <td>Karima</td>\n",
       "      <td>95000</td>\n",
       "      <td>HR</td>\n",
       "    </tr>\n",
       "    <tr>\n",
       "      <th>13</th>\n",
       "      <td>Arthur</td>\n",
       "      <td>83000</td>\n",
       "      <td>SALES</td>\n",
       "    </tr>\n",
       "    <tr>\n",
       "      <th>14</th>\n",
       "      <td>Benjamin</td>\n",
       "      <td>110000</td>\n",
       "      <td>CEO</td>\n",
       "    </tr>\n",
       "  </tbody>\n",
       "</table>\n",
       "</div>"
      ],
      "text/plain": [
       "        name    wage department\n",
       "10   Zeinaba  100000         IT\n",
       "11   Gregory  120000         IT\n",
       "12    Karima   95000         HR\n",
       "13    Arthur   83000      SALES\n",
       "14  Benjamin  110000        CEO"
      ]
     },
     "execution_count": 16,
     "metadata": {},
     "output_type": "execute_result"
    }
   ],
   "source": [
    "# On reprend l'exemple des salaires du notebook précédent:\n",
    "data = {\n",
    "    'name': ['Toufik', 'Jean-Nicolas', 'Daniel', 'Kaouter', 'Sylvie', \n",
    "             'Sebastien', 'Diane', 'Romain', 'François', 'Anna',\n",
    "             'Zeinaba', 'Gregory', 'Karima', 'Arthur', 'Benjamin'],\n",
    "    'wage': [60000, 35000, 55000, 80000, 70000, \n",
    "             90000, 65000, 72000, 68000, 85000, \n",
    "             100000, 120000, 95000, 83000, 110000],\n",
    "    'department': ['IT', 'HR', 'SALES', 'IT', 'IT', \n",
    "                   'HR', 'SALES', 'IT', 'HR', 'SALES', \n",
    "                   'IT', 'IT', 'HR', 'SALES', 'CEO']\n",
    "}\n",
    "\n",
    "wages = pd.DataFrame(data)\n",
    "\n",
    "wages.tail()"
   ]
  },
  {
   "cell_type": "markdown",
   "id": "6ae60f92",
   "metadata": {},
   "source": [
    "On cherche à classer les revenus par catégories:\n",
    "- Low si < 50 000\n",
    "- medium si < 90 000\n",
    "- sinon: high"
   ]
  },
  {
   "cell_type": "code",
   "execution_count": 21,
   "id": "d30c0474",
   "metadata": {},
   "outputs": [
    {
     "data": {
      "text/plain": [
       "┌────────────┬──────────────┬────────────────┐\n",
       "│ department │ salary_range │ average_salary │\n",
       "│  varchar   │   varchar    │     double     │\n",
       "├────────────┼──────────────┼────────────────┤\n",
       "│ IT         │ Medium       │        70500.0 │\n",
       "│ HR         │ Low          │        35000.0 │\n",
       "│ SALES      │ Medium       │        72000.0 │\n",
       "│ HR         │ High         │        92500.0 │\n",
       "│ HR         │ Medium       │        68000.0 │\n",
       "│ IT         │ High         │       110000.0 │\n",
       "│ CEO        │ High         │       110000.0 │\n",
       "└────────────┴──────────────┴────────────────┘"
      ]
     },
     "execution_count": 21,
     "metadata": {},
     "output_type": "execute_result"
    }
   ],
   "source": [
    "# %%timeit (453 µs ± 11.8 µs per loop (mean ± std. dev. of 7 runs, 1,000 loops each))\n",
    "query = \"\"\"\n",
    "SELECT \n",
    "  department, \n",
    "  CASE \n",
    "      WHEN wage <= 50000 THEN 'Low' \n",
    "      WHEN wage < 90000 THEN 'Medium' \n",
    "      ELSE 'High' \n",
    "  END AS salary_range, \n",
    "  AVG(wage) AS average_salary\n",
    "FROM \n",
    "  wages \n",
    "GROUP BY \n",
    "  department, \n",
    "  CASE \n",
    "      WHEN wage <= 50000 THEN 'Low' \n",
    "      WHEN wage < 90000 THEN 'Medium' \n",
    "      ELSE 'High' \n",
    "  END;\n",
    "\"\"\"\n",
    "duckdb.sql(query)"
   ]
  },
  {
   "cell_type": "markdown",
   "id": "2a1bcfae",
   "metadata": {},
   "source": [
    "Selon moi, les CASE WHEN dans les groupby ne sont pas la solution la plus facile à maintenir. \n",
    "\n",
    "Je préfère largement les CTE pour ce type de besoin:"
   ]
  },
  {
   "cell_type": "markdown",
   "id": "50b67325",
   "metadata": {},
   "source": [
    "Exercice: refaites la requête ci-dessus <br />\n",
    "en utilisant une CTE qui crée la colonne \"salary_range\" avec un CASE WHEN\n",
    "\n",
    "Puis en faisant la moyenne des salaires par salary_range"
   ]
  },
  {
   "cell_type": "code",
   "execution_count": 17,
   "id": "94353ccb",
   "metadata": {},
   "outputs": [
    {
     "data": {
      "text/plain": [
       "┌────────────┬──────────────┬────────────────┐\n",
       "│ department │ salary_range │ average_salary │\n",
       "│  varchar   │   varchar    │     double     │\n",
       "├────────────┼──────────────┼────────────────┤\n",
       "│ IT         │ Medium       │        70500.0 │\n",
       "│ HR         │ Low          │        35000.0 │\n",
       "│ SALES      │ Medium       │        72000.0 │\n",
       "│ HR         │ High         │        92500.0 │\n",
       "│ HR         │ Medium       │        68000.0 │\n",
       "│ IT         │ High         │       110000.0 │\n",
       "│ CEO        │ High         │       110000.0 │\n",
       "└────────────┴──────────────┴────────────────┘"
      ]
     },
     "execution_count": 17,
     "metadata": {},
     "output_type": "execute_result"
    }
   ],
   "source": [
    "%load solutions/4case_when_inside_groupby_as_cte.py"
   ]
  },
  {
   "cell_type": "markdown",
   "id": "59278669",
   "metadata": {},
   "source": [
    "Exercice: ajoutez une ligne de code qui permet de savoir combien de personnes sont incluses dans chaque \"regroupement\""
   ]
  },
  {
   "cell_type": "code",
   "execution_count": null,
   "id": "c92b71d1",
   "metadata": {},
   "outputs": [],
   "source": []
  },
  {
   "cell_type": "code",
   "execution_count": 43,
   "id": "48fbfa2b",
   "metadata": {},
   "outputs": [
    {
     "data": {
      "text/plain": [
       "┌────────────┬──────────────┬────────────────┬───────┐\n",
       "│ department │ salary_range │ average_salary │ count │\n",
       "│  varchar   │   varchar    │     double     │ int64 │\n",
       "├────────────┼──────────────┼────────────────┼───────┤\n",
       "│ IT         │ Medium       │        70500.0 │     4 │\n",
       "│ HR         │ Low          │        35000.0 │     1 │\n",
       "│ SALES      │ Medium       │        72000.0 │     4 │\n",
       "│ HR         │ High         │        92500.0 │     2 │\n",
       "│ HR         │ Medium       │        68000.0 │     1 │\n",
       "│ IT         │ High         │       110000.0 │     2 │\n",
       "│ CEO        │ High         │       110000.0 │     1 │\n",
       "└────────────┴──────────────┴────────────────┴───────┘"
      ]
     },
     "execution_count": 43,
     "metadata": {},
     "output_type": "execute_result"
    }
   ],
   "source": [
    "# resultat attendu: "
   ]
  },
  {
   "cell_type": "code",
   "execution_count": null,
   "id": "f92cbf42",
   "metadata": {},
   "outputs": [],
   "source": []
  }
 ],
 "metadata": {
  "kernelspec": {
   "display_name": "Python 3 (ipykernel)",
   "language": "python",
   "name": "python3"
  },
  "language_info": {
   "codemirror_mode": {
    "name": "ipython",
    "version": 3
   },
   "file_extension": ".py",
   "mimetype": "text/x-python",
   "name": "python",
   "nbconvert_exporter": "python",
   "pygments_lexer": "ipython3",
   "version": "3.11.4"
  }
 },
 "nbformat": 4,
 "nbformat_minor": 5
}
