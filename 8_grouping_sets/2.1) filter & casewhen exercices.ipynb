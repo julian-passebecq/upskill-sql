{
 "cells": [
  {
   "cell_type": "code",
   "execution_count": 13,
   "id": "44e8aa0c",
   "metadata": {},
   "outputs": [],
   "source": [
    "import pandas as pd\n",
    "import duckdb"
   ]
  },
  {
   "cell_type": "markdown",
   "id": "33eb7d85",
   "metadata": {},
   "source": [
    "## data"
   ]
  },
  {
   "cell_type": "code",
   "execution_count": 18,
   "id": "8f9ee78b",
   "metadata": {},
   "outputs": [
    {
     "data": {
      "text/html": [
       "<div>\n",
       "<style scoped>\n",
       "    .dataframe tbody tr th:only-of-type {\n",
       "        vertical-align: middle;\n",
       "    }\n",
       "\n",
       "    .dataframe tbody tr th {\n",
       "        vertical-align: top;\n",
       "    }\n",
       "\n",
       "    .dataframe thead th {\n",
       "        text-align: right;\n",
       "    }\n",
       "</style>\n",
       "<table border=\"1\" class=\"dataframe\">\n",
       "  <thead>\n",
       "    <tr style=\"text-align: right;\">\n",
       "      <th></th>\n",
       "      <th>region</th>\n",
       "      <th>departement</th>\n",
       "      <th>year</th>\n",
       "      <th>population</th>\n",
       "    </tr>\n",
       "  </thead>\n",
       "  <tbody>\n",
       "    <tr>\n",
       "      <th>60</th>\n",
       "      <td>HDF</td>\n",
       "      <td>59</td>\n",
       "      <td>2016</td>\n",
       "      <td>2603723</td>\n",
       "    </tr>\n",
       "    <tr>\n",
       "      <th>63</th>\n",
       "      <td>HDF</td>\n",
       "      <td>62</td>\n",
       "      <td>2016</td>\n",
       "      <td>1470725</td>\n",
       "    </tr>\n",
       "    <tr>\n",
       "      <th>76</th>\n",
       "      <td>IDF</td>\n",
       "      <td>75</td>\n",
       "      <td>2016</td>\n",
       "      <td>2190327</td>\n",
       "    </tr>\n",
       "    <tr>\n",
       "      <th>84</th>\n",
       "      <td>PACA</td>\n",
       "      <td>83</td>\n",
       "      <td>2016</td>\n",
       "      <td>1055821</td>\n",
       "    </tr>\n",
       "    <tr>\n",
       "      <th>85</th>\n",
       "      <td>PACA</td>\n",
       "      <td>84</td>\n",
       "      <td>2016</td>\n",
       "      <td>559014</td>\n",
       "    </tr>\n",
       "  </tbody>\n",
       "</table>\n",
       "</div>"
      ],
      "text/plain": [
       "   region departement  year population\n",
       "60    HDF          59  2016    2603723\n",
       "63    HDF          62  2016    1470725\n",
       "76    IDF          75  2016    2190327\n",
       "84   PACA          83  2016    1055821\n",
       "85   PACA          84  2016     559014"
      ]
     },
     "execution_count": 18,
     "metadata": {},
     "output_type": "execute_result"
    }
   ],
   "source": [
    "dpt_to_region_mapping = {\n",
    "    \"59\":\"HDF\",\n",
    "    \"62\":\"HDF\",\n",
    "    \"75\":\"IDF\",\n",
    "    \"95\":\"IDF\",\n",
    "    \"83\":\"PACA\",\n",
    "    \"84\":\"PACA\",\n",
    "}\n",
    "\n",
    "dpts_dfs = []\n",
    "for year in range(2016,2022):\n",
    "    # https://www.insee.fr/fr/statistiques/1893198\n",
    "    df = pd.read_excel(\"data/estim-pop-dep-sexe-gca-1975-2023.xls\", str(year), skiprows=3)\n",
    "    subset = df[df[\"Départements\"].isin([\"59\", \"62\", \"75\", \"95\", \"83\", \"84\"])][[\"Départements\", \"Unnamed: 7\"]]\n",
    "    subset[\"year\"] = year\n",
    "    dpts_dfs.append(subset)\n",
    "\n",
    "dpts_dfs = pd.concat(dpts_dfs)\n",
    "dpts_dfs.columns = [\"departement\", \"population\", \"year\"]\n",
    "dpts_dfs[\"region\"] = dpts_dfs[\"departement\"].apply(lambda x: dpt_to_region_mapping.get(x))\n",
    "dpts_dfs = dpts_dfs[[\"region\", \"departement\", \"year\", \"population\"]]\n",
    "dpts_dfs.head()"
   ]
  },
  {
   "cell_type": "markdown",
   "id": "fca945f6",
   "metadata": {},
   "source": [
    "## Exercice"
   ]
  },
  {
   "cell_type": "markdown",
   "id": "01b80086",
   "metadata": {},
   "source": [
    "Exercice: Utilisez une agrégation couplée avec un FILTER <br />\n",
    "pour avoir, <b>pour chaque année</b>, la population de la region IDF <br />\n",
    "en face du total pour calculer la part de la pop IDF sur le total"
   ]
  },
  {
   "cell_type": "code",
   "execution_count": 22,
   "id": "593b0764",
   "metadata": {},
   "outputs": [
    {
     "data": {
      "text/html": [
       "<div>\n",
       "<style scoped>\n",
       "    .dataframe tbody tr th:only-of-type {\n",
       "        vertical-align: middle;\n",
       "    }\n",
       "\n",
       "    .dataframe tbody tr th {\n",
       "        vertical-align: top;\n",
       "    }\n",
       "\n",
       "    .dataframe thead th {\n",
       "        text-align: right;\n",
       "    }\n",
       "</style>\n",
       "<table border=\"1\" class=\"dataframe\">\n",
       "  <thead>\n",
       "    <tr style=\"text-align: right;\">\n",
       "      <th></th>\n",
       "      <th>year</th>\n",
       "      <th>IDF</th>\n",
       "      <th>total_pop</th>\n",
       "      <th>(IDF / total_pop)</th>\n",
       "    </tr>\n",
       "  </thead>\n",
       "  <tbody>\n",
       "    <tr>\n",
       "      <th>0</th>\n",
       "      <td>2016</td>\n",
       "      <td>3412250.0</td>\n",
       "      <td>9101533.0</td>\n",
       "      <td>0.374909</td>\n",
       "    </tr>\n",
       "    <tr>\n",
       "      <th>1</th>\n",
       "      <td>2017</td>\n",
       "      <td>3416144.0</td>\n",
       "      <td>9106742.0</td>\n",
       "      <td>0.375123</td>\n",
       "    </tr>\n",
       "    <tr>\n",
       "      <th>2</th>\n",
       "      <td>2018</td>\n",
       "      <td>3414182.0</td>\n",
       "      <td>9114649.0</td>\n",
       "      <td>0.374582</td>\n",
       "    </tr>\n",
       "    <tr>\n",
       "      <th>3</th>\n",
       "      <td>2019</td>\n",
       "      <td>3415097.0</td>\n",
       "      <td>9126901.0</td>\n",
       "      <td>0.374179</td>\n",
       "    </tr>\n",
       "    <tr>\n",
       "      <th>4</th>\n",
       "      <td>2020</td>\n",
       "      <td>3397710.0</td>\n",
       "      <td>9114753.0</td>\n",
       "      <td>0.372770</td>\n",
       "    </tr>\n",
       "    <tr>\n",
       "      <th>5</th>\n",
       "      <td>2021</td>\n",
       "      <td>3389621.0</td>\n",
       "      <td>9113121.0</td>\n",
       "      <td>0.371950</td>\n",
       "    </tr>\n",
       "  </tbody>\n",
       "</table>\n",
       "</div>"
      ],
      "text/plain": [
       "   year        IDF  total_pop  (IDF / total_pop)\n",
       "0  2016  3412250.0  9101533.0           0.374909\n",
       "1  2017  3416144.0  9106742.0           0.375123\n",
       "2  2018  3414182.0  9114649.0           0.374582\n",
       "3  2019  3415097.0  9126901.0           0.374179\n",
       "4  2020  3397710.0  9114753.0           0.372770\n",
       "5  2021  3389621.0  9113121.0           0.371950"
      ]
     },
     "execution_count": 22,
     "metadata": {},
     "output_type": "execute_result"
    }
   ],
   "source": [
    "%load solutions/5pop_filter.py"
   ]
  },
  {
   "cell_type": "markdown",
   "id": "018399ea",
   "metadata": {},
   "source": [
    "Exercice: faites la même chose avec un CASE WHEN"
   ]
  },
  {
   "cell_type": "code",
   "execution_count": 24,
   "id": "28e5a6bd",
   "metadata": {},
   "outputs": [
    {
     "data": {
      "text/html": [
       "<div>\n",
       "<style scoped>\n",
       "    .dataframe tbody tr th:only-of-type {\n",
       "        vertical-align: middle;\n",
       "    }\n",
       "\n",
       "    .dataframe tbody tr th {\n",
       "        vertical-align: top;\n",
       "    }\n",
       "\n",
       "    .dataframe thead th {\n",
       "        text-align: right;\n",
       "    }\n",
       "</style>\n",
       "<table border=\"1\" class=\"dataframe\">\n",
       "  <thead>\n",
       "    <tr style=\"text-align: right;\">\n",
       "      <th></th>\n",
       "      <th>year</th>\n",
       "      <th>IDF</th>\n",
       "      <th>total_pop</th>\n",
       "      <th>(IDF / total_pop)</th>\n",
       "    </tr>\n",
       "  </thead>\n",
       "  <tbody>\n",
       "    <tr>\n",
       "      <th>0</th>\n",
       "      <td>2016</td>\n",
       "      <td>3412250.0</td>\n",
       "      <td>9101533.0</td>\n",
       "      <td>0.374909</td>\n",
       "    </tr>\n",
       "    <tr>\n",
       "      <th>1</th>\n",
       "      <td>2017</td>\n",
       "      <td>3416144.0</td>\n",
       "      <td>9106742.0</td>\n",
       "      <td>0.375123</td>\n",
       "    </tr>\n",
       "    <tr>\n",
       "      <th>2</th>\n",
       "      <td>2018</td>\n",
       "      <td>3414182.0</td>\n",
       "      <td>9114649.0</td>\n",
       "      <td>0.374582</td>\n",
       "    </tr>\n",
       "    <tr>\n",
       "      <th>3</th>\n",
       "      <td>2019</td>\n",
       "      <td>3415097.0</td>\n",
       "      <td>9126901.0</td>\n",
       "      <td>0.374179</td>\n",
       "    </tr>\n",
       "    <tr>\n",
       "      <th>4</th>\n",
       "      <td>2020</td>\n",
       "      <td>3397710.0</td>\n",
       "      <td>9114753.0</td>\n",
       "      <td>0.372770</td>\n",
       "    </tr>\n",
       "    <tr>\n",
       "      <th>5</th>\n",
       "      <td>2021</td>\n",
       "      <td>3389621.0</td>\n",
       "      <td>9113121.0</td>\n",
       "      <td>0.371950</td>\n",
       "    </tr>\n",
       "  </tbody>\n",
       "</table>\n",
       "</div>"
      ],
      "text/plain": [
       "   year        IDF  total_pop  (IDF / total_pop)\n",
       "0  2016  3412250.0  9101533.0           0.374909\n",
       "1  2017  3416144.0  9106742.0           0.375123\n",
       "2  2018  3414182.0  9114649.0           0.374582\n",
       "3  2019  3415097.0  9126901.0           0.374179\n",
       "4  2020  3397710.0  9114753.0           0.372770\n",
       "5  2021  3389621.0  9113121.0           0.371950"
      ]
     },
     "execution_count": 24,
     "metadata": {},
     "output_type": "execute_result"
    }
   ],
   "source": [
    "%load solutions/6pop_casewhen.py"
   ]
  },
  {
   "cell_type": "code",
   "execution_count": null,
   "id": "d662183a",
   "metadata": {},
   "outputs": [],
   "source": []
  }
 ],
 "metadata": {
  "kernelspec": {
   "display_name": "Python 3 (ipykernel)",
   "language": "python",
   "name": "python3"
  },
  "language_info": {
   "codemirror_mode": {
    "name": "ipython",
    "version": 3
   },
   "file_extension": ".py",
   "mimetype": "text/x-python",
   "name": "python",
   "nbconvert_exporter": "python",
   "pygments_lexer": "ipython3",
   "version": "3.11.4"
  }
 },
 "nbformat": 4,
 "nbformat_minor": 5
}
